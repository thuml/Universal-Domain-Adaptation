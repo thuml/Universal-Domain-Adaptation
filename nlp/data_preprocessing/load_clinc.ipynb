{
 "cells": [
  {
   "cell_type": "code",
   "execution_count": 1,
   "metadata": {},
   "outputs": [],
   "source": [
    "\n",
    "import os\n",
    "import json\n",
    "\n",
    "from tqdm.auto import tqdm\n",
    "\n",
    "\n",
    "data_path = '/home/heyjoonkim/data/datasets/clinc'\n",
    "domain_file = 'domains.json'\n",
    "data_file = 'data_full.json'\n",
    "\n",
    "split_keys = ['train', 'val', 'test']"
   ]
  },
  {
   "cell_type": "code",
   "execution_count": 2,
   "metadata": {},
   "outputs": [
    {
     "name": "stdout",
     "output_type": "stream",
     "text": [
      "banking 15\n",
      "credit_cards 15\n",
      "kitchen_and_dining 15\n",
      "home 15\n",
      "auto_and_commute 15\n",
      "travel 15\n",
      "utility 15\n",
      "work 15\n",
      "small_talk 15\n",
      "meta 15\n",
      "\n",
      "\n",
      "coarse label : 10 ['banking', 'credit_cards', 'kitchen_and_dining', 'home', 'auto_and_commute', 'travel', 'utility', 'work', 'small_talk', 'meta']\n",
      "fine labels  : 150\n"
     ]
    }
   ],
   "source": [
    "\n",
    "\n",
    "full_data_path = os.path.join(data_path, domain_file)\n",
    "with open(full_data_path, 'r') as f:\n",
    "    domain_keys = json.load(f)\n",
    "\n",
    "    coarse_labels = list(domain_keys.keys())\n",
    "\n",
    "labels_dict = {}\n",
    "for coarse_label, fine_labels in domain_keys.items():\n",
    "    print(coarse_label, len(fine_labels))\n",
    "    for fine_label in fine_labels:\n",
    "        labels_dict[fine_label] = coarse_label\n",
    "\n",
    "print('\\n\\ncoarse label :', len(coarse_labels), coarse_labels)\n",
    "print('fine labels  :', len(labels_dict.keys()))"
   ]
  },
  {
   "cell_type": "code",
   "execution_count": 13,
   "metadata": {},
   "outputs": [],
   "source": [
    "full_data_path = os.path.join(data_path, data_file)\n",
    "with open(full_data_path, 'r') as f:\n",
    "    data = json.load(f)"
   ]
  },
  {
   "cell_type": "code",
   "execution_count": 28,
   "metadata": {},
   "outputs": [
    {
     "data": {
      "application/vnd.jupyter.widget-view+json": {
       "model_id": "8aad31acd35a4701a144e2297b90e61f",
       "version_major": 2,
       "version_minor": 0
      },
      "text/plain": [
       "Loading split train:   0%|          | 0/15000 [00:00<?, ?it/s]"
      ]
     },
     "metadata": {},
     "output_type": "display_data"
    },
    {
     "data": {
      "application/vnd.jupyter.widget-view+json": {
       "model_id": "f46998b5126c44d8919e1ad901ee5f21",
       "version_major": 2,
       "version_minor": 0
      },
      "text/plain": [
       "Loading split val:   0%|          | 0/3000 [00:00<?, ?it/s]"
      ]
     },
     "metadata": {},
     "output_type": "display_data"
    },
    {
     "data": {
      "application/vnd.jupyter.widget-view+json": {
       "model_id": "1cfa4897c64d499aa7ef86b4969de0e3",
       "version_major": 2,
       "version_minor": 0
      },
      "text/plain": [
       "Loading split test:   0%|          | 0/4500 [00:00<?, ?it/s]"
      ]
     },
     "metadata": {},
     "output_type": "display_data"
    }
   ],
   "source": [
    "for split_key in split_keys:\n",
    "    split_data_dict_list = []\n",
    "    for sample in tqdm(data.get(split_key), desc=f'Loading split {split_key}'):\n",
    "        text, fine_label = sample\n",
    "        coarse_label = labels_dict.get(fine_label)\n",
    "        data_dict = {\n",
    "            'text' : text,\n",
    "            'coarse_label' : coarse_label,\n",
    "            'fine_label' : fine_label,\n",
    "        }\n",
    "        split_data_dict_list.append(data_dict)\n",
    "\n",
    "    file_name = f'{split_key}.jsonl'\n",
    "    file_output_dir = os.path.join(data_path, file_name)\n",
    "    with open(file_output_dir, 'w') as f:\n",
    "        json.dump(split_data_dict_list, f)\n",
    "        \n",
    "    "
   ]
  },
  {
   "cell_type": "code",
   "execution_count": 4,
   "metadata": {},
   "outputs": [
    {
     "name": "stderr",
     "output_type": "stream",
     "text": [
      "Using custom data configuration default-d5d86bf127b5874a\n",
      "Reusing dataset json (/home/heyjoonkim/.cache/huggingface/datasets/json/default-d5d86bf127b5874a/0.0.0/da492aad5680612e4028e7f6ddc04b1dfcec4b64db470ed7cc5f2bb265b9b6b5)\n"
     ]
    },
    {
     "data": {
      "application/vnd.jupyter.widget-view+json": {
       "model_id": "b1d2fc0b0a59462890e90cc8a79550b0",
       "version_major": 2,
       "version_minor": 0
      },
      "text/plain": [
       "  0%|          | 0/1 [00:00<?, ?it/s]"
      ]
     },
     "metadata": {},
     "output_type": "display_data"
    }
   ],
   "source": [
    "from datasets import load_dataset\n",
    "x = load_dataset('json', data_files='/home/heyjoonkim/data/datasets/clinc/train.jsonl')['train']"
   ]
  },
  {
   "cell_type": "code",
   "execution_count": 5,
   "metadata": {},
   "outputs": [
    {
     "data": {
      "application/vnd.jupyter.widget-view+json": {
       "model_id": "856c0f83311f46d6828af30b42a77337",
       "version_major": 2,
       "version_minor": 0
      },
      "text/plain": [
       "  0%|          | 0/15 [00:00<?, ?ba/s]"
      ]
     },
     "metadata": {},
     "output_type": "display_data"
    }
   ],
   "source": [
    "b = x.filter(lambda sample: sample['coarse_label'] in [0,1])"
   ]
  },
  {
   "cell_type": "code",
   "execution_count": 14,
   "metadata": {},
   "outputs": [
    {
     "data": {
      "text/plain": [
       "30"
      ]
     },
     "execution_count": 14,
     "metadata": {},
     "output_type": "execute_result"
    }
   ],
   "source": [
    "len(list(set(b['fine_label'])))"
   ]
  },
  {
   "cell_type": "code",
   "execution_count": 22,
   "metadata": {},
   "outputs": [],
   "source": [
    "a = b.to_dict()\n"
   ]
  },
  {
   "cell_type": "code",
   "execution_count": 24,
   "metadata": {},
   "outputs": [
    {
     "ename": "SyntaxError",
     "evalue": "invalid syntax (1500807503.py, line 1)",
     "output_type": "error",
     "traceback": [
      "\u001b[0;36m  Input \u001b[0;32mIn [24]\u001b[0;36m\u001b[0m\n\u001b[0;31m    tmp = map(lambda index: -1 if index in [0,1,2], a['fine_label'])\u001b[0m\n\u001b[0m                                                  ^\u001b[0m\n\u001b[0;31mSyntaxError\u001b[0m\u001b[0;31m:\u001b[0m invalid syntax\n"
     ]
    }
   ],
   "source": [
    "tmp = map(lambda index: -1 if index in [0,1,2] else index, a['fine_label'])"
   ]
  },
  {
   "cell_type": "code",
   "execution_count": 16,
   "metadata": {},
   "outputs": [],
   "source": [
    "for i, c in enumerate(a['fine_label']):\n",
    "    if c in [0,1,2,3,4]:\n",
    "        a['fine_label'][i] = 9999\n"
   ]
  },
  {
   "cell_type": "code",
   "execution_count": 17,
   "metadata": {},
   "outputs": [],
   "source": [
    "from datasets import Dataset\n",
    "\n",
    "c = Dataset.from_dict(a)"
   ]
  },
  {
   "cell_type": "code",
   "execution_count": 18,
   "metadata": {},
   "outputs": [
    {
     "data": {
      "text/plain": [
       "26"
      ]
     },
     "execution_count": 18,
     "metadata": {},
     "output_type": "execute_result"
    }
   ],
   "source": [
    "len(list(set(c['fine_label'])))"
   ]
  },
  {
   "cell_type": "code",
   "execution_count": 2,
   "metadata": {},
   "outputs": [
    {
     "ename": "InvalidConfigName",
     "evalue": "Bad characters from black list '<>:/\\|?*' found in '/home/heyjoonkim/data/datasets/clinc/1234_2/source_train.jsonl'. They could create issues when creating a directory for this config on Windows filesystem.",
     "output_type": "error",
     "traceback": [
      "\u001b[0;31m---------------------------------------------------------------------------\u001b[0m",
      "\u001b[0;31mInvalidConfigName\u001b[0m                         Traceback (most recent call last)",
      "\u001b[1;32m/home/heyjoonkim/UniDA/data_preprocessing/load_clinc.ipynb 셀 13\u001b[0m in \u001b[0;36m<cell line: 3>\u001b[0;34m()\u001b[0m\n\u001b[1;32m      <a href='vscode-notebook-cell://ssh-remote%2Bdione.snu.ac.kr/home/heyjoonkim/UniDA/data_preprocessing/load_clinc.ipynb#X20sdnNjb2RlLXJlbW90ZQ%3D%3D?line=0'>1</a>\u001b[0m \u001b[39mfrom\u001b[39;00m \u001b[39mdatasets\u001b[39;00m \u001b[39mimport\u001b[39;00m load_dataset\n\u001b[0;32m----> <a href='vscode-notebook-cell://ssh-remote%2Bdione.snu.ac.kr/home/heyjoonkim/UniDA/data_preprocessing/load_clinc.ipynb#X20sdnNjb2RlLXJlbW90ZQ%3D%3D?line=2'>3</a>\u001b[0m train \u001b[39m=\u001b[39m load_dataset(\u001b[39m'\u001b[39;49m\u001b[39mjson\u001b[39;49m\u001b[39m'\u001b[39;49m, \u001b[39m'\u001b[39;49m\u001b[39m/home/heyjoonkim/data/datasets/clinc/1234_2/source_train.jsonl\u001b[39;49m\u001b[39m'\u001b[39;49m)\n\u001b[1;32m      <a href='vscode-notebook-cell://ssh-remote%2Bdione.snu.ac.kr/home/heyjoonkim/UniDA/data_preprocessing/load_clinc.ipynb#X20sdnNjb2RlLXJlbW90ZQ%3D%3D?line=3'>4</a>\u001b[0m val \u001b[39m=\u001b[39m load_dataset(\u001b[39m'\u001b[39m\u001b[39mjson\u001b[39m\u001b[39m'\u001b[39m, \u001b[39m'\u001b[39m\u001b[39m/home/heyjoonkim/data/datasets/clinc/1234_2/source_val.jsonl\u001b[39m\u001b[39m'\u001b[39m)\n\u001b[1;32m      <a href='vscode-notebook-cell://ssh-remote%2Bdione.snu.ac.kr/home/heyjoonkim/UniDA/data_preprocessing/load_clinc.ipynb#X20sdnNjb2RlLXJlbW90ZQ%3D%3D?line=4'>5</a>\u001b[0m test \u001b[39m=\u001b[39m load_dataset(\u001b[39m'\u001b[39m\u001b[39mjson\u001b[39m\u001b[39m'\u001b[39m, \u001b[39m'\u001b[39m\u001b[39m/home/heyjoonkim/data/datasets/clinc/1234_2/target_test.jsonl\u001b[39m\u001b[39m'\u001b[39m)\n",
      "File \u001b[0;32m~/anaconda3/envs/dev/lib/python3.8/site-packages/datasets/load.py:1656\u001b[0m, in \u001b[0;36mload_dataset\u001b[0;34m(path, name, data_dir, data_files, split, cache_dir, features, download_config, download_mode, ignore_verifications, keep_in_memory, save_infos, revision, use_auth_token, task, streaming, **config_kwargs)\u001b[0m\n\u001b[1;32m   1653\u001b[0m ignore_verifications \u001b[39m=\u001b[39m ignore_verifications \u001b[39mor\u001b[39;00m save_infos\n\u001b[1;32m   1655\u001b[0m \u001b[39m# Create a dataset builder\u001b[39;00m\n\u001b[0;32m-> 1656\u001b[0m builder_instance \u001b[39m=\u001b[39m load_dataset_builder(\n\u001b[1;32m   1657\u001b[0m     path\u001b[39m=\u001b[39;49mpath,\n\u001b[1;32m   1658\u001b[0m     name\u001b[39m=\u001b[39;49mname,\n\u001b[1;32m   1659\u001b[0m     data_dir\u001b[39m=\u001b[39;49mdata_dir,\n\u001b[1;32m   1660\u001b[0m     data_files\u001b[39m=\u001b[39;49mdata_files,\n\u001b[1;32m   1661\u001b[0m     cache_dir\u001b[39m=\u001b[39;49mcache_dir,\n\u001b[1;32m   1662\u001b[0m     features\u001b[39m=\u001b[39;49mfeatures,\n\u001b[1;32m   1663\u001b[0m     download_config\u001b[39m=\u001b[39;49mdownload_config,\n\u001b[1;32m   1664\u001b[0m     download_mode\u001b[39m=\u001b[39;49mdownload_mode,\n\u001b[1;32m   1665\u001b[0m     revision\u001b[39m=\u001b[39;49mrevision,\n\u001b[1;32m   1666\u001b[0m     use_auth_token\u001b[39m=\u001b[39;49muse_auth_token,\n\u001b[1;32m   1667\u001b[0m     \u001b[39m*\u001b[39;49m\u001b[39m*\u001b[39;49mconfig_kwargs,\n\u001b[1;32m   1668\u001b[0m )\n\u001b[1;32m   1670\u001b[0m \u001b[39m# Return iterable dataset in case of streaming\u001b[39;00m\n\u001b[1;32m   1671\u001b[0m \u001b[39mif\u001b[39;00m streaming:\n",
      "File \u001b[0;32m~/anaconda3/envs/dev/lib/python3.8/site-packages/datasets/load.py:1465\u001b[0m, in \u001b[0;36mload_dataset_builder\u001b[0;34m(path, name, data_dir, data_files, cache_dir, features, download_config, download_mode, revision, use_auth_token, **config_kwargs)\u001b[0m\n\u001b[1;32m   1462\u001b[0m     \u001b[39mraise\u001b[39;00m \u001b[39mValueError\u001b[39;00m(error_msg)\n\u001b[1;32m   1464\u001b[0m \u001b[39m# Instantiate the dataset builder\u001b[39;00m\n\u001b[0;32m-> 1465\u001b[0m builder_instance: DatasetBuilder \u001b[39m=\u001b[39m builder_cls(\n\u001b[1;32m   1466\u001b[0m     cache_dir\u001b[39m=\u001b[39;49mcache_dir,\n\u001b[1;32m   1467\u001b[0m     config_name\u001b[39m=\u001b[39;49mconfig_name,\n\u001b[1;32m   1468\u001b[0m     data_dir\u001b[39m=\u001b[39;49mdata_dir,\n\u001b[1;32m   1469\u001b[0m     data_files\u001b[39m=\u001b[39;49mdata_files,\n\u001b[1;32m   1470\u001b[0m     \u001b[39mhash\u001b[39;49m\u001b[39m=\u001b[39;49m\u001b[39mhash\u001b[39;49m,\n\u001b[1;32m   1471\u001b[0m     features\u001b[39m=\u001b[39;49mfeatures,\n\u001b[1;32m   1472\u001b[0m     use_auth_token\u001b[39m=\u001b[39;49muse_auth_token,\n\u001b[1;32m   1473\u001b[0m     \u001b[39m*\u001b[39;49m\u001b[39m*\u001b[39;49mbuilder_kwargs,\n\u001b[1;32m   1474\u001b[0m     \u001b[39m*\u001b[39;49m\u001b[39m*\u001b[39;49mconfig_kwargs,\n\u001b[1;32m   1475\u001b[0m )\n\u001b[1;32m   1477\u001b[0m \u001b[39mreturn\u001b[39;00m builder_instance\n",
      "File \u001b[0;32m~/anaconda3/envs/dev/lib/python3.8/site-packages/datasets/builder.py:297\u001b[0m, in \u001b[0;36mDatasetBuilder.__init__\u001b[0;34m(self, cache_dir, config_name, hash, base_path, info, features, use_auth_token, repo_id, data_files, data_dir, name, **config_kwargs)\u001b[0m\n\u001b[1;32m    295\u001b[0m \u001b[39mif\u001b[39;00m data_dir \u001b[39mis\u001b[39;00m \u001b[39mnot\u001b[39;00m \u001b[39mNone\u001b[39;00m:\n\u001b[1;32m    296\u001b[0m     config_kwargs[\u001b[39m\"\u001b[39m\u001b[39mdata_dir\u001b[39m\u001b[39m\"\u001b[39m] \u001b[39m=\u001b[39m data_dir\n\u001b[0;32m--> 297\u001b[0m \u001b[39mself\u001b[39m\u001b[39m.\u001b[39mconfig, \u001b[39mself\u001b[39m\u001b[39m.\u001b[39mconfig_id \u001b[39m=\u001b[39m \u001b[39mself\u001b[39;49m\u001b[39m.\u001b[39;49m_create_builder_config(\n\u001b[1;32m    298\u001b[0m     config_name,\n\u001b[1;32m    299\u001b[0m     custom_features\u001b[39m=\u001b[39;49mfeatures,\n\u001b[1;32m    300\u001b[0m     \u001b[39m*\u001b[39;49m\u001b[39m*\u001b[39;49mconfig_kwargs,\n\u001b[1;32m    301\u001b[0m )\n\u001b[1;32m    303\u001b[0m \u001b[39m# prepare info: DatasetInfo are a standardized dataclass across all datasets\u001b[39;00m\n\u001b[1;32m    304\u001b[0m \u001b[39m# Prefill datasetinfo\u001b[39;00m\n\u001b[1;32m    305\u001b[0m \u001b[39mif\u001b[39;00m info \u001b[39mis\u001b[39;00m \u001b[39mNone\u001b[39;00m:\n",
      "File \u001b[0;32m~/anaconda3/envs/dev/lib/python3.8/site-packages/datasets/builder.py:442\u001b[0m, in \u001b[0;36mDatasetBuilder._create_builder_config\u001b[0;34m(self, name, custom_features, **config_kwargs)\u001b[0m\n\u001b[1;32m    440\u001b[0m     \u001b[39mif\u001b[39;00m \u001b[39m\"\u001b[39m\u001b[39mversion\u001b[39m\u001b[39m\"\u001b[39m \u001b[39mnot\u001b[39;00m \u001b[39min\u001b[39;00m config_kwargs \u001b[39mand\u001b[39;00m \u001b[39mhasattr\u001b[39m(\u001b[39mself\u001b[39m, \u001b[39m\"\u001b[39m\u001b[39mVERSION\u001b[39m\u001b[39m\"\u001b[39m) \u001b[39mand\u001b[39;00m \u001b[39mself\u001b[39m\u001b[39m.\u001b[39mVERSION:\n\u001b[1;32m    441\u001b[0m         config_kwargs[\u001b[39m\"\u001b[39m\u001b[39mversion\u001b[39m\u001b[39m\"\u001b[39m] \u001b[39m=\u001b[39m \u001b[39mself\u001b[39m\u001b[39m.\u001b[39mVERSION\n\u001b[0;32m--> 442\u001b[0m     builder_config \u001b[39m=\u001b[39m \u001b[39mself\u001b[39;49m\u001b[39m.\u001b[39;49mBUILDER_CONFIG_CLASS(\u001b[39m*\u001b[39;49m\u001b[39m*\u001b[39;49mconfig_kwargs)\n\u001b[1;32m    444\u001b[0m \u001b[39m# otherwise use the config_kwargs to overwrite the attributes\u001b[39;00m\n\u001b[1;32m    445\u001b[0m \u001b[39melse\u001b[39;00m:\n\u001b[1;32m    446\u001b[0m     builder_config \u001b[39m=\u001b[39m copy\u001b[39m.\u001b[39mdeepcopy(builder_config)\n",
      "File \u001b[0;32m<string>:14\u001b[0m, in \u001b[0;36m__init__\u001b[0;34m(self, name, version, data_dir, data_files, description, features, field, use_threads, block_size, chunksize, newlines_in_values)\u001b[0m\n",
      "File \u001b[0;32m~/anaconda3/envs/dev/lib/python3.8/site-packages/datasets/builder.py:110\u001b[0m, in \u001b[0;36mBuilderConfig.__post_init__\u001b[0;34m(self)\u001b[0m\n\u001b[1;32m    108\u001b[0m \u001b[39mfor\u001b[39;00m invalid_char \u001b[39min\u001b[39;00m invalid_windows_characters:\n\u001b[1;32m    109\u001b[0m     \u001b[39mif\u001b[39;00m invalid_char \u001b[39min\u001b[39;00m \u001b[39mself\u001b[39m\u001b[39m.\u001b[39mname:\n\u001b[0;32m--> 110\u001b[0m         \u001b[39mraise\u001b[39;00m InvalidConfigName(\n\u001b[1;32m    111\u001b[0m             \u001b[39mf\u001b[39m\u001b[39m\"\u001b[39m\u001b[39mBad characters from black list \u001b[39m\u001b[39m'\u001b[39m\u001b[39m{\u001b[39;00minvalid_windows_characters\u001b[39m}\u001b[39;00m\u001b[39m'\u001b[39m\u001b[39m found in \u001b[39m\u001b[39m'\u001b[39m\u001b[39m{\u001b[39;00m\u001b[39mself\u001b[39m\u001b[39m.\u001b[39mname\u001b[39m}\u001b[39;00m\u001b[39m'\u001b[39m\u001b[39m. \u001b[39m\u001b[39m\"\u001b[39m\n\u001b[1;32m    112\u001b[0m             \u001b[39mf\u001b[39m\u001b[39m\"\u001b[39m\u001b[39mThey could create issues when creating a directory for this config on Windows filesystem.\u001b[39m\u001b[39m\"\u001b[39m\n\u001b[1;32m    113\u001b[0m         )\n\u001b[1;32m    114\u001b[0m \u001b[39mif\u001b[39;00m \u001b[39mself\u001b[39m\u001b[39m.\u001b[39mdata_files \u001b[39mis\u001b[39;00m \u001b[39mnot\u001b[39;00m \u001b[39mNone\u001b[39;00m \u001b[39mand\u001b[39;00m \u001b[39mnot\u001b[39;00m \u001b[39misinstance\u001b[39m(\u001b[39mself\u001b[39m\u001b[39m.\u001b[39mdata_files, DataFilesDict):\n\u001b[1;32m    115\u001b[0m     \u001b[39mraise\u001b[39;00m \u001b[39mValueError\u001b[39;00m(\u001b[39mf\u001b[39m\u001b[39m\"\u001b[39m\u001b[39mExpected a DataFilesDict in data_files but got \u001b[39m\u001b[39m{\u001b[39;00m\u001b[39mself\u001b[39m\u001b[39m.\u001b[39mdata_files\u001b[39m}\u001b[39;00m\u001b[39m\"\u001b[39m)\n",
      "\u001b[0;31mInvalidConfigName\u001b[0m: Bad characters from black list '<>:/\\|?*' found in '/home/heyjoonkim/data/datasets/clinc/1234_2/source_train.jsonl'. They could create issues when creating a directory for this config on Windows filesystem."
     ]
    }
   ],
   "source": [
    "from datasets import load_dataset\n",
    "\n",
    "train = load_dataset('json', data_files='/home/heyjoonkim/data/datasets/clinc/1234_2/source_train.jsonl')\n",
    "val = load_dataset('json', data_files='/home/heyjoonkim/data/datasets/clinc/1234_2/source_val.jsonl')\n",
    "test = load_dataset('json', data_files='/home/heyjoonkim/data/datasets/clinc/1234_2/target_test.jsonl')"
   ]
  },
  {
   "cell_type": "code",
   "execution_count": 1,
   "metadata": {},
   "outputs": [],
   "source": [
    "import torch\n",
    "a = torch.tensor([1, 1, 5, 5])"
   ]
  },
  {
   "cell_type": "code",
   "execution_count": 2,
   "metadata": {},
   "outputs": [],
   "source": [
    "x = a > 3"
   ]
  },
  {
   "cell_type": "code",
   "execution_count": 3,
   "metadata": {},
   "outputs": [
    {
     "name": "stdout",
     "output_type": "stream",
     "text": [
      "tensor([  1,   1, 999, 999])\n"
     ]
    }
   ],
   "source": [
    "a[x] = 999\n",
    "print(a)\n"
   ]
  },
  {
   "cell_type": "code",
   "execution_count": 2,
   "metadata": {},
   "outputs": [
    {
     "ename": "TypeError",
     "evalue": "'float' object cannot be interpreted as an integer",
     "output_type": "error",
     "traceback": [
      "\u001b[0;31m---------------------------------------------------------------------------\u001b[0m",
      "\u001b[0;31mTypeError\u001b[0m                                 Traceback (most recent call last)",
      "\u001b[1;32m/home/heyjoonkim/UniDA/data_preprocessing/load_clinc.ipynb 셀 17\u001b[0m in \u001b[0;36m<cell line: 1>\u001b[0;34m()\u001b[0m\n\u001b[0;32m----> <a href='vscode-notebook-cell://ssh-remote%2Bdione.snu.ac.kr/home/heyjoonkim/UniDA/data_preprocessing/load_clinc.ipynb#X22sdnNjb2RlLXJlbW90ZQ%3D%3D?line=0'>1</a>\u001b[0m \u001b[39mfor\u001b[39;00m th \u001b[39min\u001b[39;00m \u001b[39mrange\u001b[39;49m(\u001b[39m0.0\u001b[39;49m, \u001b[39m1.0\u001b[39;49m, \u001b[39m0.1\u001b[39;49m):\n\u001b[1;32m      <a href='vscode-notebook-cell://ssh-remote%2Bdione.snu.ac.kr/home/heyjoonkim/UniDA/data_preprocessing/load_clinc.ipynb#X22sdnNjb2RlLXJlbW90ZQ%3D%3D?line=1'>2</a>\u001b[0m     \u001b[39mprint\u001b[39m(th)\n",
      "\u001b[0;31mTypeError\u001b[0m: 'float' object cannot be interpreted as an integer"
     ]
    }
   ],
   "source": [
    "for th in range(0.0, 1.0, 0.1):\n",
    "    print(th)"
   ]
  },
  {
   "cell_type": "code",
   "execution_count": 1,
   "metadata": {},
   "outputs": [
    {
     "data": {
      "text/plain": [
       "_StoreTrueAction(option_strings=['--pad_to_max_length'], dest='pad_to_max_length', nargs=0, const=True, default=False, type=None, choices=None, help='If passed, pad all samples to `max_length`. Otherwise, dynamic padding is used.', metavar=None)"
      ]
     },
     "execution_count": 1,
     "metadata": {},
     "output_type": "execute_result"
    }
   ],
   "source": [
    "\n",
    "import argparse\n",
    "parser = argparse.ArgumentParser(description=\"Universal Domain Adaptation in NLU.\")\n",
    "\n",
    "parser.add_argument(\n",
    "    \"--pad_to_max_length\",\n",
    "    action=\"store_true\",\n",
    "    help=\"If passed, pad all samples to `max_length`. Otherwise, dynamic padding is used.\",\n",
    ")"
   ]
  },
  {
   "cell_type": "code",
   "execution_count": 7,
   "metadata": {},
   "outputs": [
    {
     "name": "stderr",
     "output_type": "stream",
     "text": [
      "Using custom data configuration default-efa927ea9d9142bb\n",
      "Reusing dataset json (/home/heyjoonkim/.cache/huggingface/datasets/json/default-efa927ea9d9142bb/0.0.0/da492aad5680612e4028e7f6ddc04b1dfcec4b64db470ed7cc5f2bb265b9b6b5)\n"
     ]
    },
    {
     "data": {
      "application/vnd.jupyter.widget-view+json": {
       "model_id": "f660d73d195b41ac86c2498c4f5f8bce",
       "version_major": 2,
       "version_minor": 0
      },
      "text/plain": [
       "  0%|          | 0/1 [00:00<?, ?it/s]"
      ]
     },
     "metadata": {},
     "output_type": "display_data"
    },
    {
     "name": "stderr",
     "output_type": "stream",
     "text": [
      "Using custom data configuration default-3ec5b5793b325bdc\n",
      "Reusing dataset json (/home/heyjoonkim/.cache/huggingface/datasets/json/default-3ec5b5793b325bdc/0.0.0/da492aad5680612e4028e7f6ddc04b1dfcec4b64db470ed7cc5f2bb265b9b6b5)\n"
     ]
    },
    {
     "data": {
      "application/vnd.jupyter.widget-view+json": {
       "model_id": "06896c56441540839ef786363953975b",
       "version_major": 2,
       "version_minor": 0
      },
      "text/plain": [
       "  0%|          | 0/1 [00:00<?, ?it/s]"
      ]
     },
     "metadata": {},
     "output_type": "display_data"
    },
    {
     "name": "stderr",
     "output_type": "stream",
     "text": [
      "Using custom data configuration default-6ac77cb7d9a0ae86\n",
      "Reusing dataset json (/home/heyjoonkim/.cache/huggingface/datasets/json/default-6ac77cb7d9a0ae86/0.0.0/da492aad5680612e4028e7f6ddc04b1dfcec4b64db470ed7cc5f2bb265b9b6b5)\n"
     ]
    },
    {
     "data": {
      "application/vnd.jupyter.widget-view+json": {
       "model_id": "3a23a5329b4f4a6fb4b46be7b9e85dcc",
       "version_major": 2,
       "version_minor": 0
      },
      "text/plain": [
       "  0%|          | 0/1 [00:00<?, ?it/s]"
      ]
     },
     "metadata": {},
     "output_type": "display_data"
    },
    {
     "name": "stderr",
     "output_type": "stream",
     "text": [
      "Using custom data configuration default-5ac9df325988972a\n",
      "Reusing dataset json (/home/heyjoonkim/.cache/huggingface/datasets/json/default-5ac9df325988972a/0.0.0/da492aad5680612e4028e7f6ddc04b1dfcec4b64db470ed7cc5f2bb265b9b6b5)\n"
     ]
    },
    {
     "data": {
      "application/vnd.jupyter.widget-view+json": {
       "model_id": "1d9f5d2b61b3466589713fb28238c42f",
       "version_major": 2,
       "version_minor": 0
      },
      "text/plain": [
       "  0%|          | 0/1 [00:00<?, ?it/s]"
      ]
     },
     "metadata": {},
     "output_type": "display_data"
    },
    {
     "name": "stderr",
     "output_type": "stream",
     "text": [
      "Using custom data configuration default-a84402e282185aba\n",
      "Reusing dataset json (/home/heyjoonkim/.cache/huggingface/datasets/json/default-a84402e282185aba/0.0.0/da492aad5680612e4028e7f6ddc04b1dfcec4b64db470ed7cc5f2bb265b9b6b5)\n"
     ]
    },
    {
     "data": {
      "application/vnd.jupyter.widget-view+json": {
       "model_id": "6e983f55d1fe4a6a9a64f359897a7e8f",
       "version_major": 2,
       "version_minor": 0
      },
      "text/plain": [
       "  0%|          | 0/1 [00:00<?, ?it/s]"
      ]
     },
     "metadata": {},
     "output_type": "display_data"
    }
   ],
   "source": [
    "from datasets import load_dataset\n",
    "\n",
    "TASK_DICT = {\n",
    "    'clinc' : 'clinc',\n",
    "    'trec' : 'trec',\n",
    "    'massive' : 'AmazonScience/massive',\n",
    "}\n",
    "\n",
    "# load dataset\n",
    "def load_full_dataset(DATA_PATH, task_name, seed, num_common_class):\n",
    "    # set dataset path\n",
    "    data_path = os.path.join(DATA_PATH, task_name, f'{seed}_{num_common_class}')\n",
    "    train_path = os.path.join(data_path, 'source_train.jsonl')\n",
    "    train_unlabeled_path = os.path.join(data_path, 'target_train_unlabeled.jsonl')\n",
    "    val_path = os.path.join(data_path, 'source_val.jsonl')\n",
    "    test_path = os.path.join(data_path, 'target_test.jsonl')\n",
    "    source_test_path = os.path.join(data_path, 'source_test.jsonl')\n",
    "\n",
    "    # load dataset\n",
    "    train_data = load_dataset('json', data_files=train_path)['train']\n",
    "    train_unlabeled_data = load_dataset('json', data_files=train_unlabeled_path)['train']\n",
    "    val_data = load_dataset('json', data_files=val_path)['train']\n",
    "    test_data = load_dataset('json', data_files=test_path)['train']\n",
    "    source_test_data = load_dataset('json', data_files=source_test_path)['train']\n",
    "\n",
    "    return train_data, train_unlabeled_data, val_data, test_data, source_test_data\n",
    "\n",
    "DATA_PATH='/home/heyjoonkim/data/datasets/'\n",
    "train_data, train_unlabeled_data, val_data, test_data, source_test_data = load_full_dataset(DATA_PATH, 'clinc', 1234, 2)\n",
    "    "
   ]
  },
  {
   "cell_type": "code",
   "execution_count": 8,
   "metadata": {},
   "outputs": [
    {
     "data": {
      "text/plain": [
       "{'text': 'set a 4 minute timer', 'coarse_label': 6, 'fine_label': 95}"
      ]
     },
     "execution_count": 8,
     "metadata": {},
     "output_type": "execute_result"
    }
   ],
   "source": [
    "test_data[0]"
   ]
  },
  {
   "cell_type": "code",
   "execution_count": 9,
   "metadata": {},
   "outputs": [
    {
     "data": {
      "text/plain": [
       "{0, 1, 2, 3, 4, 5}"
      ]
     },
     "execution_count": 9,
     "metadata": {},
     "output_type": "execute_result"
    }
   ],
   "source": [
    "set(train_data['coarse_label'])"
   ]
  },
  {
   "cell_type": "code",
   "execution_count": 10,
   "metadata": {},
   "outputs": [
    {
     "data": {
      "text/plain": [
       "{1, 3, 6}"
      ]
     },
     "execution_count": 10,
     "metadata": {},
     "output_type": "execute_result"
    }
   ],
   "source": [
    "set(test_data['coarse_label'])"
   ]
  },
  {
   "cell_type": "code",
   "execution_count": 14,
   "metadata": {},
   "outputs": [
    {
     "data": {
      "application/vnd.jupyter.widget-view+json": {
       "model_id": "616cd767747e4ca6ba604eea0d1fad2a",
       "version_major": 2,
       "version_minor": 0
      },
      "text/plain": [
       "  0%|          | 0/3 [00:00<?, ?ba/s]"
      ]
     },
     "metadata": {},
     "output_type": "display_data"
    }
   ],
   "source": [
    "x = test_data.filter(lambda x: x['coarse_label'] == 3)"
   ]
  },
  {
   "cell_type": "code",
   "execution_count": 1,
   "metadata": {},
   "outputs": [],
   "source": [
    "from datasets import load_dataset"
   ]
  },
  {
   "cell_type": "code",
   "execution_count": 5,
   "metadata": {},
   "outputs": [
    {
     "name": "stderr",
     "output_type": "stream",
     "text": [
      "Reusing dataset massive (/home/heyjoonkim/.cache/huggingface/datasets/AmazonScience___massive/en-US/1.0.0/c06e96faea378f5cbba9f6ba50b7ea33fb3f91d4256bfa26cd23a54421d154e5)\n"
     ]
    },
    {
     "data": {
      "application/vnd.jupyter.widget-view+json": {
       "model_id": "d1ba686cdf9346fa97875bcba842a71b",
       "version_major": 2,
       "version_minor": 0
      },
      "text/plain": [
       "  0%|          | 0/3 [00:00<?, ?it/s]"
      ]
     },
     "metadata": {},
     "output_type": "display_data"
    }
   ],
   "source": [
    "massive = load_dataset('AmazonScience/massive', 'en-US')"
   ]
  },
  {
   "cell_type": "code",
   "execution_count": 13,
   "metadata": {},
   "outputs": [
    {
     "name": "stderr",
     "output_type": "stream",
     "text": [
      "Using custom data configuration default-efc85ff1e5f18d9e\n",
      "Reusing dataset json (/home/heyjoonkim/.cache/huggingface/datasets/json/default-efc85ff1e5f18d9e/0.0.0/da492aad5680612e4028e7f6ddc04b1dfcec4b64db470ed7cc5f2bb265b9b6b5)\n"
     ]
    },
    {
     "data": {
      "application/vnd.jupyter.widget-view+json": {
       "model_id": "6db99c078b1d4adea5558a952e172bad",
       "version_major": 2,
       "version_minor": 0
      },
      "text/plain": [
       "  0%|          | 0/1 [00:00<?, ?it/s]"
      ]
     },
     "metadata": {},
     "output_type": "display_data"
    },
    {
     "name": "stderr",
     "output_type": "stream",
     "text": [
      "Using custom data configuration default-05173d73c332f90e\n",
      "Reusing dataset json (/home/heyjoonkim/.cache/huggingface/datasets/json/default-05173d73c332f90e/0.0.0/da492aad5680612e4028e7f6ddc04b1dfcec4b64db470ed7cc5f2bb265b9b6b5)\n"
     ]
    },
    {
     "data": {
      "application/vnd.jupyter.widget-view+json": {
       "model_id": "b4cb008ec83c4873b902d6dc654efc5c",
       "version_major": 2,
       "version_minor": 0
      },
      "text/plain": [
       "  0%|          | 0/1 [00:00<?, ?it/s]"
      ]
     },
     "metadata": {},
     "output_type": "display_data"
    },
    {
     "name": "stderr",
     "output_type": "stream",
     "text": [
      "Using custom data configuration default-eefd2b2e594458ef\n",
      "Reusing dataset json (/home/heyjoonkim/.cache/huggingface/datasets/json/default-eefd2b2e594458ef/0.0.0/da492aad5680612e4028e7f6ddc04b1dfcec4b64db470ed7cc5f2bb265b9b6b5)\n"
     ]
    },
    {
     "data": {
      "application/vnd.jupyter.widget-view+json": {
       "model_id": "734ff1ba71014932b10eeee8043e719a",
       "version_major": 2,
       "version_minor": 0
      },
      "text/plain": [
       "  0%|          | 0/1 [00:00<?, ?it/s]"
      ]
     },
     "metadata": {},
     "output_type": "display_data"
    }
   ],
   "source": [
    "\n",
    "data_path = '/home/heyjoonkim/data/datasets/massive/'\n",
    "train_path = data_path + 'train.jsonl'\n",
    "validation_path = data_path + 'validation.jsonl'\n",
    "test_path = data_path + 'test.jsonl'\n",
    "\n",
    "\n",
    "train_dataset = load_dataset('json', data_files=train_path)['train']\n",
    "validation_dataset = load_dataset('json', data_files=validation_path)['train']\n",
    "test_dataset = load_dataset('json', data_files=test_path)['train']"
   ]
  },
  {
   "cell_type": "code",
   "execution_count": 15,
   "metadata": {},
   "outputs": [],
   "source": [
    "F = 'fine_label'\n",
    "C = 'coarse_label'"
   ]
  },
  {
   "cell_type": "code",
   "execution_count": 33,
   "metadata": {},
   "outputs": [],
   "source": [
    "d = dict()\n",
    "for sample in train_dataset:\n",
    "    f, c = sample.get(F), sample.get(C)\n",
    "    if f in d.keys():\n",
    "        l = d[f]\n",
    "        l.append(c)\n",
    "        l = list(set(l))\n",
    "        d[f] = sorted(l)\n",
    "    else:\n",
    "        d[f] = [c, ]"
   ]
  },
  {
   "cell_type": "code",
   "execution_count": 36,
   "metadata": {},
   "outputs": [
    {
     "name": "stdout",
     "output_type": "stream",
     "text": [
      "0 [27, 47]\n",
      "1 [2, 11, 42, 54]\n",
      "2 [30, 32, 50]\n",
      "3 [20, 36, 45, 51, 58]\n",
      "4 [22]\n",
      "5 [0, 38]\n",
      "6 [6, 19, 55]\n",
      "7 [15, 17, 33, 44]\n",
      "8 [1, 8, 18, 24, 31, 34, 40, 41, 56]\n",
      "9 [5, 12, 25]\n",
      "10 [14, 29, 35, 46]\n",
      "11 [21, 53, 59]\n",
      "12 [4, 10, 26, 39, 49]\n",
      "13 [9, 37]\n",
      "14 [3, 16]\n",
      "15 [7, 28, 43, 57]\n",
      "16 [23, 48, 52]\n",
      "17 [13]\n",
      "\n",
      "[0, 1, 2, 3, 4, 5, 6, 7, 8, 9, 10, 11, 12, 13, 14, 15, 16, 17, 18, 19, 20, 21, 22, 23, 24, 25, 26, 27, 28, 29, 30, 31, 32, 33, 34, 35, 36, 37, 38, 39, 40, 41, 42, 43, 44, 45, 46, 47, 48, 49, 50, 51, 52, 53, 54, 55, 56, 57, 58, 59]\n"
     ]
    }
   ],
   "source": [
    "keys = sorted(list(d.keys()))\n",
    "x = []\n",
    "for key in keys:\n",
    "    print(key, d.get(key))\n",
    "\n",
    "    c = d.get(key)\n",
    "    x = x + d.get(key)\n",
    "\n",
    "print()\n",
    "print(list(sorted(x)))"
   ]
  },
  {
   "cell_type": "code",
   "execution_count": 39,
   "metadata": {},
   "outputs": [
    {
     "name": "stderr",
     "output_type": "stream",
     "text": [
      "Loading cached processed dataset at /home/heyjoonkim/.cache/huggingface/datasets/json/default-efc85ff1e5f18d9e/0.0.0/da492aad5680612e4028e7f6ddc04b1dfcec4b64db470ed7cc5f2bb265b9b6b5/cache-046fb8fab06e5482.arrow\n",
      "Loading cached processed dataset at /home/heyjoonkim/.cache/huggingface/datasets/json/default-efc85ff1e5f18d9e/0.0.0/da492aad5680612e4028e7f6ddc04b1dfcec4b64db470ed7cc5f2bb265b9b6b5/cache-5ea5c2bb2676df12.arrow\n",
      "Loading cached processed dataset at /home/heyjoonkim/.cache/huggingface/datasets/json/default-efc85ff1e5f18d9e/0.0.0/da492aad5680612e4028e7f6ddc04b1dfcec4b64db470ed7cc5f2bb265b9b6b5/cache-3df8610eb22dd185.arrow\n",
      "Loading cached processed dataset at /home/heyjoonkim/.cache/huggingface/datasets/json/default-efc85ff1e5f18d9e/0.0.0/da492aad5680612e4028e7f6ddc04b1dfcec4b64db470ed7cc5f2bb265b9b6b5/cache-3038776b6270a6c0.arrow\n",
      "Loading cached processed dataset at /home/heyjoonkim/.cache/huggingface/datasets/json/default-efc85ff1e5f18d9e/0.0.0/da492aad5680612e4028e7f6ddc04b1dfcec4b64db470ed7cc5f2bb265b9b6b5/cache-3d80017bf7bcf0ba.arrow\n",
      "Loading cached processed dataset at /home/heyjoonkim/.cache/huggingface/datasets/json/default-efc85ff1e5f18d9e/0.0.0/da492aad5680612e4028e7f6ddc04b1dfcec4b64db470ed7cc5f2bb265b9b6b5/cache-3428fe1b096dc7b4.arrow\n",
      "Loading cached processed dataset at /home/heyjoonkim/.cache/huggingface/datasets/json/default-efc85ff1e5f18d9e/0.0.0/da492aad5680612e4028e7f6ddc04b1dfcec4b64db470ed7cc5f2bb265b9b6b5/cache-cc3b9c9a7af89ffe.arrow\n",
      "Loading cached processed dataset at /home/heyjoonkim/.cache/huggingface/datasets/json/default-efc85ff1e5f18d9e/0.0.0/da492aad5680612e4028e7f6ddc04b1dfcec4b64db470ed7cc5f2bb265b9b6b5/cache-49fa0a02e1e00f40.arrow\n",
      "Loading cached processed dataset at /home/heyjoonkim/.cache/huggingface/datasets/json/default-efc85ff1e5f18d9e/0.0.0/da492aad5680612e4028e7f6ddc04b1dfcec4b64db470ed7cc5f2bb265b9b6b5/cache-50eaf62148e6df1e.arrow\n",
      "Loading cached processed dataset at /home/heyjoonkim/.cache/huggingface/datasets/json/default-efc85ff1e5f18d9e/0.0.0/da492aad5680612e4028e7f6ddc04b1dfcec4b64db470ed7cc5f2bb265b9b6b5/cache-b42220e5cfb53541.arrow\n",
      "Loading cached processed dataset at /home/heyjoonkim/.cache/huggingface/datasets/json/default-efc85ff1e5f18d9e/0.0.0/da492aad5680612e4028e7f6ddc04b1dfcec4b64db470ed7cc5f2bb265b9b6b5/cache-72e6dea37453def5.arrow\n",
      "Loading cached processed dataset at /home/heyjoonkim/.cache/huggingface/datasets/json/default-efc85ff1e5f18d9e/0.0.0/da492aad5680612e4028e7f6ddc04b1dfcec4b64db470ed7cc5f2bb265b9b6b5/cache-cd49f5a30a2971d4.arrow\n",
      "Loading cached processed dataset at /home/heyjoonkim/.cache/huggingface/datasets/json/default-efc85ff1e5f18d9e/0.0.0/da492aad5680612e4028e7f6ddc04b1dfcec4b64db470ed7cc5f2bb265b9b6b5/cache-5c7e60040e99957f.arrow\n",
      "Loading cached processed dataset at /home/heyjoonkim/.cache/huggingface/datasets/json/default-efc85ff1e5f18d9e/0.0.0/da492aad5680612e4028e7f6ddc04b1dfcec4b64db470ed7cc5f2bb265b9b6b5/cache-a2d93558fdb03185.arrow\n",
      "Loading cached processed dataset at /home/heyjoonkim/.cache/huggingface/datasets/json/default-efc85ff1e5f18d9e/0.0.0/da492aad5680612e4028e7f6ddc04b1dfcec4b64db470ed7cc5f2bb265b9b6b5/cache-d3360225588dd1c5.arrow\n",
      "Loading cached processed dataset at /home/heyjoonkim/.cache/huggingface/datasets/json/default-efc85ff1e5f18d9e/0.0.0/da492aad5680612e4028e7f6ddc04b1dfcec4b64db470ed7cc5f2bb265b9b6b5/cache-080b64e9baffb6eb.arrow\n",
      "Loading cached processed dataset at /home/heyjoonkim/.cache/huggingface/datasets/json/default-efc85ff1e5f18d9e/0.0.0/da492aad5680612e4028e7f6ddc04b1dfcec4b64db470ed7cc5f2bb265b9b6b5/cache-d7379de8fb72aa2a.arrow\n",
      "Loading cached processed dataset at /home/heyjoonkim/.cache/huggingface/datasets/json/default-efc85ff1e5f18d9e/0.0.0/da492aad5680612e4028e7f6ddc04b1dfcec4b64db470ed7cc5f2bb265b9b6b5/cache-464dc973a9138896.arrow\n",
      "Loading cached processed dataset at /home/heyjoonkim/.cache/huggingface/datasets/json/default-efc85ff1e5f18d9e/0.0.0/da492aad5680612e4028e7f6ddc04b1dfcec4b64db470ed7cc5f2bb265b9b6b5/cache-a0012340f7e6b4ae.arrow\n",
      "Loading cached processed dataset at /home/heyjoonkim/.cache/huggingface/datasets/json/default-efc85ff1e5f18d9e/0.0.0/da492aad5680612e4028e7f6ddc04b1dfcec4b64db470ed7cc5f2bb265b9b6b5/cache-c32962d88375360e.arrow\n",
      "Loading cached processed dataset at /home/heyjoonkim/.cache/huggingface/datasets/json/default-efc85ff1e5f18d9e/0.0.0/da492aad5680612e4028e7f6ddc04b1dfcec4b64db470ed7cc5f2bb265b9b6b5/cache-2c56dbcdc516f868.arrow\n",
      "Loading cached processed dataset at /home/heyjoonkim/.cache/huggingface/datasets/json/default-efc85ff1e5f18d9e/0.0.0/da492aad5680612e4028e7f6ddc04b1dfcec4b64db470ed7cc5f2bb265b9b6b5/cache-a3e3b918c227f7aa.arrow\n",
      "Loading cached processed dataset at /home/heyjoonkim/.cache/huggingface/datasets/json/default-efc85ff1e5f18d9e/0.0.0/da492aad5680612e4028e7f6ddc04b1dfcec4b64db470ed7cc5f2bb265b9b6b5/cache-bf47e79330419518.arrow\n",
      "Loading cached processed dataset at /home/heyjoonkim/.cache/huggingface/datasets/json/default-efc85ff1e5f18d9e/0.0.0/da492aad5680612e4028e7f6ddc04b1dfcec4b64db470ed7cc5f2bb265b9b6b5/cache-df2165add0499a85.arrow\n",
      "Loading cached processed dataset at /home/heyjoonkim/.cache/huggingface/datasets/json/default-efc85ff1e5f18d9e/0.0.0/da492aad5680612e4028e7f6ddc04b1dfcec4b64db470ed7cc5f2bb265b9b6b5/cache-c8f090d368cc2910.arrow\n",
      "Loading cached processed dataset at /home/heyjoonkim/.cache/huggingface/datasets/json/default-efc85ff1e5f18d9e/0.0.0/da492aad5680612e4028e7f6ddc04b1dfcec4b64db470ed7cc5f2bb265b9b6b5/cache-f8d81412f8936e90.arrow\n",
      "Loading cached processed dataset at /home/heyjoonkim/.cache/huggingface/datasets/json/default-efc85ff1e5f18d9e/0.0.0/da492aad5680612e4028e7f6ddc04b1dfcec4b64db470ed7cc5f2bb265b9b6b5/cache-c3b4fd13bab98f4a.arrow\n",
      "Loading cached processed dataset at /home/heyjoonkim/.cache/huggingface/datasets/json/default-efc85ff1e5f18d9e/0.0.0/da492aad5680612e4028e7f6ddc04b1dfcec4b64db470ed7cc5f2bb265b9b6b5/cache-51fb0b9dc326408f.arrow\n",
      "Loading cached processed dataset at /home/heyjoonkim/.cache/huggingface/datasets/json/default-efc85ff1e5f18d9e/0.0.0/da492aad5680612e4028e7f6ddc04b1dfcec4b64db470ed7cc5f2bb265b9b6b5/cache-c71fdf4ef9c26d73.arrow\n",
      "Loading cached processed dataset at /home/heyjoonkim/.cache/huggingface/datasets/json/default-efc85ff1e5f18d9e/0.0.0/da492aad5680612e4028e7f6ddc04b1dfcec4b64db470ed7cc5f2bb265b9b6b5/cache-c76d0846a47df4a3.arrow\n",
      "Loading cached processed dataset at /home/heyjoonkim/.cache/huggingface/datasets/json/default-efc85ff1e5f18d9e/0.0.0/da492aad5680612e4028e7f6ddc04b1dfcec4b64db470ed7cc5f2bb265b9b6b5/cache-b4e2b13df846eccc.arrow\n",
      "Loading cached processed dataset at /home/heyjoonkim/.cache/huggingface/datasets/json/default-efc85ff1e5f18d9e/0.0.0/da492aad5680612e4028e7f6ddc04b1dfcec4b64db470ed7cc5f2bb265b9b6b5/cache-5d5c7a4578010ed6.arrow\n",
      "Loading cached processed dataset at /home/heyjoonkim/.cache/huggingface/datasets/json/default-efc85ff1e5f18d9e/0.0.0/da492aad5680612e4028e7f6ddc04b1dfcec4b64db470ed7cc5f2bb265b9b6b5/cache-c5b537ffcf60e70c.arrow\n",
      "Loading cached processed dataset at /home/heyjoonkim/.cache/huggingface/datasets/json/default-efc85ff1e5f18d9e/0.0.0/da492aad5680612e4028e7f6ddc04b1dfcec4b64db470ed7cc5f2bb265b9b6b5/cache-24788400067903b6.arrow\n",
      "Loading cached processed dataset at /home/heyjoonkim/.cache/huggingface/datasets/json/default-efc85ff1e5f18d9e/0.0.0/da492aad5680612e4028e7f6ddc04b1dfcec4b64db470ed7cc5f2bb265b9b6b5/cache-19a3bab928119622.arrow\n",
      "Loading cached processed dataset at /home/heyjoonkim/.cache/huggingface/datasets/json/default-efc85ff1e5f18d9e/0.0.0/da492aad5680612e4028e7f6ddc04b1dfcec4b64db470ed7cc5f2bb265b9b6b5/cache-e65a2ac9395e2c8f.arrow\n",
      "Loading cached processed dataset at /home/heyjoonkim/.cache/huggingface/datasets/json/default-efc85ff1e5f18d9e/0.0.0/da492aad5680612e4028e7f6ddc04b1dfcec4b64db470ed7cc5f2bb265b9b6b5/cache-f63e3ac77bbcaa12.arrow\n",
      "Loading cached processed dataset at /home/heyjoonkim/.cache/huggingface/datasets/json/default-efc85ff1e5f18d9e/0.0.0/da492aad5680612e4028e7f6ddc04b1dfcec4b64db470ed7cc5f2bb265b9b6b5/cache-5312c2391119c30d.arrow\n",
      "Loading cached processed dataset at /home/heyjoonkim/.cache/huggingface/datasets/json/default-efc85ff1e5f18d9e/0.0.0/da492aad5680612e4028e7f6ddc04b1dfcec4b64db470ed7cc5f2bb265b9b6b5/cache-439ff44f22967e1c.arrow\n",
      "Loading cached processed dataset at /home/heyjoonkim/.cache/huggingface/datasets/json/default-efc85ff1e5f18d9e/0.0.0/da492aad5680612e4028e7f6ddc04b1dfcec4b64db470ed7cc5f2bb265b9b6b5/cache-6f503ee6c5d68cfb.arrow\n",
      "Loading cached processed dataset at /home/heyjoonkim/.cache/huggingface/datasets/json/default-efc85ff1e5f18d9e/0.0.0/da492aad5680612e4028e7f6ddc04b1dfcec4b64db470ed7cc5f2bb265b9b6b5/cache-0d5d6e3595b39644.arrow\n",
      "Loading cached processed dataset at /home/heyjoonkim/.cache/huggingface/datasets/json/default-efc85ff1e5f18d9e/0.0.0/da492aad5680612e4028e7f6ddc04b1dfcec4b64db470ed7cc5f2bb265b9b6b5/cache-d45c4e6e67490dea.arrow\n",
      "Loading cached processed dataset at /home/heyjoonkim/.cache/huggingface/datasets/json/default-efc85ff1e5f18d9e/0.0.0/da492aad5680612e4028e7f6ddc04b1dfcec4b64db470ed7cc5f2bb265b9b6b5/cache-05e3bd55f2b58b68.arrow\n",
      "Loading cached processed dataset at /home/heyjoonkim/.cache/huggingface/datasets/json/default-efc85ff1e5f18d9e/0.0.0/da492aad5680612e4028e7f6ddc04b1dfcec4b64db470ed7cc5f2bb265b9b6b5/cache-269849d934ae1111.arrow\n",
      "Loading cached processed dataset at /home/heyjoonkim/.cache/huggingface/datasets/json/default-efc85ff1e5f18d9e/0.0.0/da492aad5680612e4028e7f6ddc04b1dfcec4b64db470ed7cc5f2bb265b9b6b5/cache-0c4b4346af495c35.arrow\n",
      "Loading cached processed dataset at /home/heyjoonkim/.cache/huggingface/datasets/json/default-efc85ff1e5f18d9e/0.0.0/da492aad5680612e4028e7f6ddc04b1dfcec4b64db470ed7cc5f2bb265b9b6b5/cache-413c37d742c739fe.arrow\n",
      "Loading cached processed dataset at /home/heyjoonkim/.cache/huggingface/datasets/json/default-efc85ff1e5f18d9e/0.0.0/da492aad5680612e4028e7f6ddc04b1dfcec4b64db470ed7cc5f2bb265b9b6b5/cache-75e33dda22373d16.arrow\n",
      "Loading cached processed dataset at /home/heyjoonkim/.cache/huggingface/datasets/json/default-efc85ff1e5f18d9e/0.0.0/da492aad5680612e4028e7f6ddc04b1dfcec4b64db470ed7cc5f2bb265b9b6b5/cache-6dcbd7ac5a896d55.arrow\n",
      "Loading cached processed dataset at /home/heyjoonkim/.cache/huggingface/datasets/json/default-efc85ff1e5f18d9e/0.0.0/da492aad5680612e4028e7f6ddc04b1dfcec4b64db470ed7cc5f2bb265b9b6b5/cache-a801574107a277e1.arrow\n",
      "Loading cached processed dataset at /home/heyjoonkim/.cache/huggingface/datasets/json/default-efc85ff1e5f18d9e/0.0.0/da492aad5680612e4028e7f6ddc04b1dfcec4b64db470ed7cc5f2bb265b9b6b5/cache-d9c7cefc9d03a222.arrow\n",
      "Loading cached processed dataset at /home/heyjoonkim/.cache/huggingface/datasets/json/default-efc85ff1e5f18d9e/0.0.0/da492aad5680612e4028e7f6ddc04b1dfcec4b64db470ed7cc5f2bb265b9b6b5/cache-1ef23f878c4f84f7.arrow\n",
      "Loading cached processed dataset at /home/heyjoonkim/.cache/huggingface/datasets/json/default-efc85ff1e5f18d9e/0.0.0/da492aad5680612e4028e7f6ddc04b1dfcec4b64db470ed7cc5f2bb265b9b6b5/cache-676ecf601db3dc12.arrow\n",
      "Loading cached processed dataset at /home/heyjoonkim/.cache/huggingface/datasets/json/default-efc85ff1e5f18d9e/0.0.0/da492aad5680612e4028e7f6ddc04b1dfcec4b64db470ed7cc5f2bb265b9b6b5/cache-677d90334c1ab267.arrow\n",
      "Loading cached processed dataset at /home/heyjoonkim/.cache/huggingface/datasets/json/default-efc85ff1e5f18d9e/0.0.0/da492aad5680612e4028e7f6ddc04b1dfcec4b64db470ed7cc5f2bb265b9b6b5/cache-0844c689a84bf0f4.arrow\n",
      "Loading cached processed dataset at /home/heyjoonkim/.cache/huggingface/datasets/json/default-efc85ff1e5f18d9e/0.0.0/da492aad5680612e4028e7f6ddc04b1dfcec4b64db470ed7cc5f2bb265b9b6b5/cache-7e44c5c7d13f1291.arrow\n",
      "Loading cached processed dataset at /home/heyjoonkim/.cache/huggingface/datasets/json/default-efc85ff1e5f18d9e/0.0.0/da492aad5680612e4028e7f6ddc04b1dfcec4b64db470ed7cc5f2bb265b9b6b5/cache-146de35bdd2f5d2f.arrow\n",
      "Loading cached processed dataset at /home/heyjoonkim/.cache/huggingface/datasets/json/default-efc85ff1e5f18d9e/0.0.0/da492aad5680612e4028e7f6ddc04b1dfcec4b64db470ed7cc5f2bb265b9b6b5/cache-0cd67943cb35c4ae.arrow\n",
      "Loading cached processed dataset at /home/heyjoonkim/.cache/huggingface/datasets/json/default-efc85ff1e5f18d9e/0.0.0/da492aad5680612e4028e7f6ddc04b1dfcec4b64db470ed7cc5f2bb265b9b6b5/cache-9b07f225ffc33359.arrow\n",
      "Loading cached processed dataset at /home/heyjoonkim/.cache/huggingface/datasets/json/default-efc85ff1e5f18d9e/0.0.0/da492aad5680612e4028e7f6ddc04b1dfcec4b64db470ed7cc5f2bb265b9b6b5/cache-4d6fcb8361e92a33.arrow\n",
      "Loading cached processed dataset at /home/heyjoonkim/.cache/huggingface/datasets/json/default-efc85ff1e5f18d9e/0.0.0/da492aad5680612e4028e7f6ddc04b1dfcec4b64db470ed7cc5f2bb265b9b6b5/cache-b83e8fd62825e280.arrow\n"
     ]
    },
    {
     "name": "stdout",
     "output_type": "stream",
     "text": [
      "\n",
      "\n",
      "0\n",
      "27 108\n",
      "47 283\n",
      "\n",
      "\n",
      "1\n",
      "2 127\n",
      "11 117\n",
      "42 227\n",
      "54 100\n",
      "\n",
      "\n",
      "2\n",
      "30 312\n",
      "32 566\n",
      "50 810\n",
      "\n",
      "\n",
      "3\n",
      "20 150\n",
      "36 283\n",
      "45 639\n",
      "51 112\n",
      "58 193\n",
      "\n",
      "\n",
      "4\n",
      "22 503\n",
      "\n",
      "\n",
      "5\n",
      "0 350\n",
      "38 52\n",
      "\n",
      "\n",
      "6\n",
      "6 190\n",
      "19 173\n",
      "55 70\n",
      "\n",
      "\n",
      "7\n",
      "15 54\n",
      "17 127\n",
      "33 354\n",
      "44 418\n",
      "\n",
      "\n",
      "8\n",
      "1 125\n",
      "8 52\n",
      "18 76\n",
      "24 48\n",
      "31 76\n",
      "34 93\n",
      "40 153\n",
      "41 22\n",
      "56 124\n",
      "\n",
      "\n",
      "9\n",
      "5 25\n",
      "12 555\n",
      "25 72\n",
      "\n",
      "\n",
      "10\n",
      "14 110\n",
      "29 18\n",
      "35 52\n",
      "46 110\n",
      "\n",
      "\n",
      "11\n",
      "21 177\n",
      "53 164\n",
      "59 198\n",
      "\n",
      "\n",
      "12\n",
      "4 152\n",
      "10 142\n",
      "26 267\n",
      "39 78\n",
      "49 544\n",
      "\n",
      "\n",
      "13\n",
      "9 207\n",
      "37 4\n",
      "\n",
      "\n",
      "14\n",
      "3 122\n",
      "16 135\n",
      "\n",
      "\n",
      "15\n",
      "7 14\n",
      "28 51\n",
      "43 113\n",
      "57 154\n",
      "\n",
      "\n",
      "16\n",
      "23 130\n",
      "48 182\n",
      "52 78\n",
      "\n",
      "\n",
      "17\n",
      "13 573\n"
     ]
    }
   ],
   "source": [
    "keys = sorted(list(d.keys()))\n",
    "for key in keys:\n",
    "    print(f'\\n\\n{key}')\n",
    "\n",
    "    X = d.get(key)\n",
    "    for x in X:\n",
    "        f = train_dataset.filter(lambda sample : sample[C] == x)\n",
    "        print(x, len(f))\n"
   ]
  },
  {
   "cell_type": "code",
   "execution_count": 41,
   "metadata": {},
   "outputs": [],
   "source": [
    "a = {1, 2, 3}"
   ]
  },
  {
   "cell_type": "code",
   "execution_count": 43,
   "metadata": {},
   "outputs": [],
   "source": [
    "b = {2, 3}"
   ]
  },
  {
   "cell_type": "code",
   "execution_count": 46,
   "metadata": {},
   "outputs": [],
   "source": [
    "x = a.intersection({})"
   ]
  },
  {
   "cell_type": "code",
   "execution_count": 48,
   "metadata": {},
   "outputs": [
    {
     "data": {
      "text/plain": [
       "0"
      ]
     },
     "execution_count": 48,
     "metadata": {},
     "output_type": "execute_result"
    }
   ],
   "source": [
    "len(x)"
   ]
  },
  {
   "cell_type": "code",
   "execution_count": 49,
   "metadata": {},
   "outputs": [],
   "source": [
    "\n",
    "DATASET_PATH = '/home/heyjoonkim/data/datasets/massive/1234_8/'\n",
    "train_path = DATASET_PATH + 'train.jsonl'\n",
    "validation_path = DATASET_PATH + 'validation.jsonl'\n",
    "test_path = DATASET_PATH + 'test.jsonl'"
   ]
  },
  {
   "cell_type": "code",
   "execution_count": 50,
   "metadata": {},
   "outputs": [
    {
     "ename": "FileNotFoundError",
     "evalue": "Unable to find '/home/heyjoonkim/data/datasets/massive/1234_8/train.jsonl' at /home/heyjoonkim/UniDA/data_preprocessing",
     "output_type": "error",
     "traceback": [
      "\u001b[0;31m---------------------------------------------------------------------------\u001b[0m",
      "\u001b[0;31mFileNotFoundError\u001b[0m                         Traceback (most recent call last)",
      "\u001b[1;32m/home/heyjoonkim/UniDA/data_preprocessing/load_clinc.ipynb 셀 36\u001b[0m in \u001b[0;36m<cell line: 1>\u001b[0;34m()\u001b[0m\n\u001b[0;32m----> <a href='vscode-notebook-cell://ssh-remote%2Bdione.snu.ac.kr/home/heyjoonkim/UniDA/data_preprocessing/load_clinc.ipynb#X52sdnNjb2RlLXJlbW90ZQ%3D%3D?line=0'>1</a>\u001b[0m train_dataset \u001b[39m=\u001b[39m load_dataset(\u001b[39m'\u001b[39;49m\u001b[39mjson\u001b[39;49m\u001b[39m'\u001b[39;49m, data_files\u001b[39m=\u001b[39;49mtrain_path)[\u001b[39m'\u001b[39m\u001b[39mtrain\u001b[39m\u001b[39m'\u001b[39m]\n\u001b[1;32m      <a href='vscode-notebook-cell://ssh-remote%2Bdione.snu.ac.kr/home/heyjoonkim/UniDA/data_preprocessing/load_clinc.ipynb#X52sdnNjb2RlLXJlbW90ZQ%3D%3D?line=1'>2</a>\u001b[0m validation_dataset \u001b[39m=\u001b[39m load_dataset(\u001b[39m'\u001b[39m\u001b[39mjson\u001b[39m\u001b[39m'\u001b[39m, data_files\u001b[39m=\u001b[39mvalidation_path)[\u001b[39m'\u001b[39m\u001b[39mtrain\u001b[39m\u001b[39m'\u001b[39m]\n\u001b[1;32m      <a href='vscode-notebook-cell://ssh-remote%2Bdione.snu.ac.kr/home/heyjoonkim/UniDA/data_preprocessing/load_clinc.ipynb#X52sdnNjb2RlLXJlbW90ZQ%3D%3D?line=2'>3</a>\u001b[0m test_dataset \u001b[39m=\u001b[39m load_dataset(\u001b[39m'\u001b[39m\u001b[39mjson\u001b[39m\u001b[39m'\u001b[39m, data_files\u001b[39m=\u001b[39mtest_path)[\u001b[39m'\u001b[39m\u001b[39mtrain\u001b[39m\u001b[39m'\u001b[39m]\n",
      "File \u001b[0;32m~/anaconda3/envs/dev/lib/python3.8/site-packages/datasets/load.py:1656\u001b[0m, in \u001b[0;36mload_dataset\u001b[0;34m(path, name, data_dir, data_files, split, cache_dir, features, download_config, download_mode, ignore_verifications, keep_in_memory, save_infos, revision, use_auth_token, task, streaming, **config_kwargs)\u001b[0m\n\u001b[1;32m   1653\u001b[0m ignore_verifications \u001b[39m=\u001b[39m ignore_verifications \u001b[39mor\u001b[39;00m save_infos\n\u001b[1;32m   1655\u001b[0m \u001b[39m# Create a dataset builder\u001b[39;00m\n\u001b[0;32m-> 1656\u001b[0m builder_instance \u001b[39m=\u001b[39m load_dataset_builder(\n\u001b[1;32m   1657\u001b[0m     path\u001b[39m=\u001b[39;49mpath,\n\u001b[1;32m   1658\u001b[0m     name\u001b[39m=\u001b[39;49mname,\n\u001b[1;32m   1659\u001b[0m     data_dir\u001b[39m=\u001b[39;49mdata_dir,\n\u001b[1;32m   1660\u001b[0m     data_files\u001b[39m=\u001b[39;49mdata_files,\n\u001b[1;32m   1661\u001b[0m     cache_dir\u001b[39m=\u001b[39;49mcache_dir,\n\u001b[1;32m   1662\u001b[0m     features\u001b[39m=\u001b[39;49mfeatures,\n\u001b[1;32m   1663\u001b[0m     download_config\u001b[39m=\u001b[39;49mdownload_config,\n\u001b[1;32m   1664\u001b[0m     download_mode\u001b[39m=\u001b[39;49mdownload_mode,\n\u001b[1;32m   1665\u001b[0m     revision\u001b[39m=\u001b[39;49mrevision,\n\u001b[1;32m   1666\u001b[0m     use_auth_token\u001b[39m=\u001b[39;49muse_auth_token,\n\u001b[1;32m   1667\u001b[0m     \u001b[39m*\u001b[39;49m\u001b[39m*\u001b[39;49mconfig_kwargs,\n\u001b[1;32m   1668\u001b[0m )\n\u001b[1;32m   1670\u001b[0m \u001b[39m# Return iterable dataset in case of streaming\u001b[39;00m\n\u001b[1;32m   1671\u001b[0m \u001b[39mif\u001b[39;00m streaming:\n",
      "File \u001b[0;32m~/anaconda3/envs/dev/lib/python3.8/site-packages/datasets/load.py:1439\u001b[0m, in \u001b[0;36mload_dataset_builder\u001b[0;34m(path, name, data_dir, data_files, cache_dir, features, download_config, download_mode, revision, use_auth_token, **config_kwargs)\u001b[0m\n\u001b[1;32m   1437\u001b[0m     download_config \u001b[39m=\u001b[39m download_config\u001b[39m.\u001b[39mcopy() \u001b[39mif\u001b[39;00m download_config \u001b[39melse\u001b[39;00m DownloadConfig()\n\u001b[1;32m   1438\u001b[0m     download_config\u001b[39m.\u001b[39muse_auth_token \u001b[39m=\u001b[39m use_auth_token\n\u001b[0;32m-> 1439\u001b[0m dataset_module \u001b[39m=\u001b[39m dataset_module_factory(\n\u001b[1;32m   1440\u001b[0m     path,\n\u001b[1;32m   1441\u001b[0m     revision\u001b[39m=\u001b[39;49mrevision,\n\u001b[1;32m   1442\u001b[0m     download_config\u001b[39m=\u001b[39;49mdownload_config,\n\u001b[1;32m   1443\u001b[0m     download_mode\u001b[39m=\u001b[39;49mdownload_mode,\n\u001b[1;32m   1444\u001b[0m     data_dir\u001b[39m=\u001b[39;49mdata_dir,\n\u001b[1;32m   1445\u001b[0m     data_files\u001b[39m=\u001b[39;49mdata_files,\n\u001b[1;32m   1446\u001b[0m )\n\u001b[1;32m   1448\u001b[0m \u001b[39m# Get dataset builder class from the processing script\u001b[39;00m\n\u001b[1;32m   1449\u001b[0m builder_cls \u001b[39m=\u001b[39m import_main_class(dataset_module\u001b[39m.\u001b[39mmodule_path)\n",
      "File \u001b[0;32m~/anaconda3/envs/dev/lib/python3.8/site-packages/datasets/load.py:1097\u001b[0m, in \u001b[0;36mdataset_module_factory\u001b[0;34m(path, revision, download_config, download_mode, dynamic_modules_path, data_dir, data_files, **download_kwargs)\u001b[0m\n\u001b[1;32m   1077\u001b[0m \u001b[39m# We have several ways to get a dataset builder:\u001b[39;00m\n\u001b[1;32m   1078\u001b[0m \u001b[39m#\u001b[39;00m\n\u001b[1;32m   1079\u001b[0m \u001b[39m# - if path is the name of a packaged dataset module\u001b[39;00m\n\u001b[0;32m   (...)\u001b[0m\n\u001b[1;32m   1094\u001b[0m \n\u001b[1;32m   1095\u001b[0m \u001b[39m# Try packaged\u001b[39;00m\n\u001b[1;32m   1096\u001b[0m \u001b[39mif\u001b[39;00m path \u001b[39min\u001b[39;00m _PACKAGED_DATASETS_MODULES:\n\u001b[0;32m-> 1097\u001b[0m     \u001b[39mreturn\u001b[39;00m PackagedDatasetModuleFactory(\n\u001b[1;32m   1098\u001b[0m         path,\n\u001b[1;32m   1099\u001b[0m         data_dir\u001b[39m=\u001b[39;49mdata_dir,\n\u001b[1;32m   1100\u001b[0m         data_files\u001b[39m=\u001b[39;49mdata_files,\n\u001b[1;32m   1101\u001b[0m         download_config\u001b[39m=\u001b[39;49mdownload_config,\n\u001b[1;32m   1102\u001b[0m         download_mode\u001b[39m=\u001b[39;49mdownload_mode,\n\u001b[1;32m   1103\u001b[0m     )\u001b[39m.\u001b[39;49mget_module()\n\u001b[1;32m   1104\u001b[0m \u001b[39m# Try locally\u001b[39;00m\n\u001b[1;32m   1105\u001b[0m \u001b[39melif\u001b[39;00m path\u001b[39m.\u001b[39mendswith(filename):\n",
      "File \u001b[0;32m~/anaconda3/envs/dev/lib/python3.8/site-packages/datasets/load.py:743\u001b[0m, in \u001b[0;36mPackagedDatasetModuleFactory.get_module\u001b[0;34m(self)\u001b[0m\n\u001b[1;32m    735\u001b[0m \u001b[39mdef\u001b[39;00m \u001b[39mget_module\u001b[39m(\u001b[39mself\u001b[39m) \u001b[39m-\u001b[39m\u001b[39m>\u001b[39m DatasetModule:\n\u001b[1;32m    736\u001b[0m     patterns \u001b[39m=\u001b[39m (\n\u001b[1;32m    737\u001b[0m         sanitize_patterns(\u001b[39mself\u001b[39m\u001b[39m.\u001b[39mdata_files)\n\u001b[1;32m    738\u001b[0m         \u001b[39mif\u001b[39;00m \u001b[39mself\u001b[39m\u001b[39m.\u001b[39mdata_files \u001b[39mis\u001b[39;00m \u001b[39mnot\u001b[39;00m \u001b[39mNone\u001b[39;00m\n\u001b[0;32m   (...)\u001b[0m\n\u001b[1;32m    741\u001b[0m         \u001b[39melse\u001b[39;00m get_patterns_locally(\u001b[39mstr\u001b[39m(Path()\u001b[39m.\u001b[39mresolve()))\n\u001b[1;32m    742\u001b[0m     )\n\u001b[0;32m--> 743\u001b[0m     data_files \u001b[39m=\u001b[39m DataFilesDict\u001b[39m.\u001b[39;49mfrom_local_or_remote(\n\u001b[1;32m    744\u001b[0m         patterns,\n\u001b[1;32m    745\u001b[0m         use_auth_token\u001b[39m=\u001b[39;49m\u001b[39mself\u001b[39;49m\u001b[39m.\u001b[39;49mdownload_config\u001b[39m.\u001b[39;49muse_auth_token,\n\u001b[1;32m    746\u001b[0m         base_path\u001b[39m=\u001b[39;49m\u001b[39mstr\u001b[39;49m(Path(\u001b[39mself\u001b[39;49m\u001b[39m.\u001b[39;49mdata_dir)\u001b[39m.\u001b[39;49mresolve()) \u001b[39mif\u001b[39;49;00m \u001b[39mself\u001b[39;49m\u001b[39m.\u001b[39;49mdata_dir \u001b[39melse\u001b[39;49;00m \u001b[39mNone\u001b[39;49;00m,\n\u001b[1;32m    747\u001b[0m     )\n\u001b[1;32m    748\u001b[0m     module_path, \u001b[39mhash\u001b[39m \u001b[39m=\u001b[39m _PACKAGED_DATASETS_MODULES[\u001b[39mself\u001b[39m\u001b[39m.\u001b[39mname]\n\u001b[1;32m    749\u001b[0m     builder_kwargs \u001b[39m=\u001b[39m {\u001b[39m\"\u001b[39m\u001b[39mhash\u001b[39m\u001b[39m\"\u001b[39m: \u001b[39mhash\u001b[39m, \u001b[39m\"\u001b[39m\u001b[39mdata_files\u001b[39m\u001b[39m\"\u001b[39m: data_files}\n",
      "File \u001b[0;32m~/anaconda3/envs/dev/lib/python3.8/site-packages/datasets/data_files.py:590\u001b[0m, in \u001b[0;36mDataFilesDict.from_local_or_remote\u001b[0;34m(cls, patterns, base_path, allowed_extensions, use_auth_token)\u001b[0m\n\u001b[1;32m    587\u001b[0m out \u001b[39m=\u001b[39m \u001b[39mcls\u001b[39m()\n\u001b[1;32m    588\u001b[0m \u001b[39mfor\u001b[39;00m key, patterns_for_key \u001b[39min\u001b[39;00m patterns\u001b[39m.\u001b[39mitems():\n\u001b[1;32m    589\u001b[0m     out[key] \u001b[39m=\u001b[39m (\n\u001b[0;32m--> 590\u001b[0m         DataFilesList\u001b[39m.\u001b[39;49mfrom_local_or_remote(\n\u001b[1;32m    591\u001b[0m             patterns_for_key,\n\u001b[1;32m    592\u001b[0m             base_path\u001b[39m=\u001b[39;49mbase_path,\n\u001b[1;32m    593\u001b[0m             allowed_extensions\u001b[39m=\u001b[39;49mallowed_extensions,\n\u001b[1;32m    594\u001b[0m             use_auth_token\u001b[39m=\u001b[39;49muse_auth_token,\n\u001b[1;32m    595\u001b[0m         )\n\u001b[1;32m    596\u001b[0m         \u001b[39mif\u001b[39;00m \u001b[39mnot\u001b[39;00m \u001b[39misinstance\u001b[39m(patterns_for_key, DataFilesList)\n\u001b[1;32m    597\u001b[0m         \u001b[39melse\u001b[39;00m patterns_for_key\n\u001b[1;32m    598\u001b[0m     )\n\u001b[1;32m    599\u001b[0m \u001b[39mreturn\u001b[39;00m out\n",
      "File \u001b[0;32m~/anaconda3/envs/dev/lib/python3.8/site-packages/datasets/data_files.py:558\u001b[0m, in \u001b[0;36mDataFilesList.from_local_or_remote\u001b[0;34m(cls, patterns, base_path, allowed_extensions, use_auth_token)\u001b[0m\n\u001b[1;32m    549\u001b[0m \u001b[39m@classmethod\u001b[39m\n\u001b[1;32m    550\u001b[0m \u001b[39mdef\u001b[39;00m \u001b[39mfrom_local_or_remote\u001b[39m(\n\u001b[1;32m    551\u001b[0m     \u001b[39mcls\u001b[39m,\n\u001b[0;32m   (...)\u001b[0m\n\u001b[1;32m    555\u001b[0m     use_auth_token: Optional[Union[\u001b[39mbool\u001b[39m, \u001b[39mstr\u001b[39m]] \u001b[39m=\u001b[39m \u001b[39mNone\u001b[39;00m,\n\u001b[1;32m    556\u001b[0m ) \u001b[39m-\u001b[39m\u001b[39m>\u001b[39m \u001b[39m\"\u001b[39m\u001b[39mDataFilesList\u001b[39m\u001b[39m\"\u001b[39m:\n\u001b[1;32m    557\u001b[0m     base_path \u001b[39m=\u001b[39m base_path \u001b[39mif\u001b[39;00m base_path \u001b[39mis\u001b[39;00m \u001b[39mnot\u001b[39;00m \u001b[39mNone\u001b[39;00m \u001b[39melse\u001b[39;00m \u001b[39mstr\u001b[39m(Path()\u001b[39m.\u001b[39mresolve())\n\u001b[0;32m--> 558\u001b[0m     data_files \u001b[39m=\u001b[39m resolve_patterns_locally_or_by_urls(base_path, patterns, allowed_extensions)\n\u001b[1;32m    559\u001b[0m     origin_metadata \u001b[39m=\u001b[39m _get_origin_metadata_locally_or_by_urls(data_files, use_auth_token\u001b[39m=\u001b[39muse_auth_token)\n\u001b[1;32m    560\u001b[0m     \u001b[39mreturn\u001b[39;00m \u001b[39mcls\u001b[39m(data_files, origin_metadata)\n",
      "File \u001b[0;32m~/anaconda3/envs/dev/lib/python3.8/site-packages/datasets/data_files.py:195\u001b[0m, in \u001b[0;36mresolve_patterns_locally_or_by_urls\u001b[0;34m(base_path, patterns, allowed_extensions)\u001b[0m\n\u001b[1;32m    193\u001b[0m         data_files\u001b[39m.\u001b[39mappend(Url(pattern))\n\u001b[1;32m    194\u001b[0m     \u001b[39melse\u001b[39;00m:\n\u001b[0;32m--> 195\u001b[0m         \u001b[39mfor\u001b[39;00m path \u001b[39min\u001b[39;00m _resolve_single_pattern_locally(base_path, pattern, allowed_extensions):\n\u001b[1;32m    196\u001b[0m             data_files\u001b[39m.\u001b[39mappend(path)\n\u001b[1;32m    198\u001b[0m \u001b[39mif\u001b[39;00m \u001b[39mnot\u001b[39;00m data_files:\n",
      "File \u001b[0;32m~/anaconda3/envs/dev/lib/python3.8/site-packages/datasets/data_files.py:145\u001b[0m, in \u001b[0;36m_resolve_single_pattern_locally\u001b[0;34m(base_path, pattern, allowed_extensions)\u001b[0m\n\u001b[1;32m    143\u001b[0m     \u001b[39mif\u001b[39;00m allowed_extensions \u001b[39mis\u001b[39;00m \u001b[39mnot\u001b[39;00m \u001b[39mNone\u001b[39;00m:\n\u001b[1;32m    144\u001b[0m         error_msg \u001b[39m+\u001b[39m\u001b[39m=\u001b[39m \u001b[39mf\u001b[39m\u001b[39m\"\u001b[39m\u001b[39m with any supported extension \u001b[39m\u001b[39m{\u001b[39;00m\u001b[39mlist\u001b[39m(allowed_extensions)\u001b[39m}\u001b[39;00m\u001b[39m\"\u001b[39m\n\u001b[0;32m--> 145\u001b[0m     \u001b[39mraise\u001b[39;00m \u001b[39mFileNotFoundError\u001b[39;00m(error_msg)\n\u001b[1;32m    146\u001b[0m \u001b[39mreturn\u001b[39;00m \u001b[39msorted\u001b[39m(out)\n",
      "\u001b[0;31mFileNotFoundError\u001b[0m: Unable to find '/home/heyjoonkim/data/datasets/massive/1234_8/train.jsonl' at /home/heyjoonkim/UniDA/data_preprocessing"
     ]
    }
   ],
   "source": [
    "train_dataset = load_dataset('json', data_files=train_path)['train']\n",
    "validation_dataset = load_dataset('json', data_files=validation_path)['train']\n",
    "test_dataset = load_dataset('json', data_files=test_path)['train']"
   ]
  },
  {
   "cell_type": "code",
   "execution_count": 51,
   "metadata": {},
   "outputs": [],
   "source": [
    "s = {1, 4, 5, 8, 11, 13, 14, 16, 18, 20, 22, 23, 24, 27, 28, 30, 31, 32, 34, 35, 39, 40, 41, 42, 48, 50, 52, 56, 57, 58}\n",
    "t = {0, 2, 3, 6, 7, 9, 10, 12, 15, 17, 19, 21, 25, 26, 29, 33, 36, 37, 38, 43, 44, 45, 46, 47, 49, 51, 53, 54, 55, 59}"
   ]
  },
  {
   "cell_type": "markdown",
   "metadata": {},
   "source": []
  },
  {
   "cell_type": "code",
   "execution_count": 52,
   "metadata": {},
   "outputs": [
    {
     "data": {
      "text/plain": [
       "set()"
      ]
     },
     "execution_count": 52,
     "metadata": {},
     "output_type": "execute_result"
    }
   ],
   "source": [
    "s.intersection(t)"
   ]
  },
  {
   "cell_type": "code",
   "execution_count": 26,
   "metadata": {},
   "outputs": [
    {
     "name": "stderr",
     "output_type": "stream",
     "text": [
      "Using custom data configuration default-1775e2d6d9183047\n",
      "Reusing dataset json (/home/heyjoonkim/.cache/huggingface/datasets/json/default-1775e2d6d9183047/0.0.0/da492aad5680612e4028e7f6ddc04b1dfcec4b64db470ed7cc5f2bb265b9b6b5)\n"
     ]
    },
    {
     "data": {
      "application/vnd.jupyter.widget-view+json": {
       "model_id": "bc145ec40fd5418db80842bb21c20fe8",
       "version_major": 2,
       "version_minor": 0
      },
      "text/plain": [
       "  0%|          | 0/1 [00:00<?, ?it/s]"
      ]
     },
     "metadata": {},
     "output_type": "display_data"
    },
    {
     "name": "stderr",
     "output_type": "stream",
     "text": [
      "Using custom data configuration default-e21c3bd22a4fa354\n",
      "Reusing dataset json (/home/heyjoonkim/.cache/huggingface/datasets/json/default-e21c3bd22a4fa354/0.0.0/da492aad5680612e4028e7f6ddc04b1dfcec4b64db470ed7cc5f2bb265b9b6b5)\n"
     ]
    },
    {
     "data": {
      "application/vnd.jupyter.widget-view+json": {
       "model_id": "33c286f699d94f5e9db08ea550d20fc9",
       "version_major": 2,
       "version_minor": 0
      },
      "text/plain": [
       "  0%|          | 0/1 [00:00<?, ?it/s]"
      ]
     },
     "metadata": {},
     "output_type": "display_data"
    }
   ],
   "source": [
    "from datasets import load_dataset\n",
    "\n",
    "data_path = '/home/heyjoonkim/data/datasets/trec/'\n",
    "train_path = data_path + 'train.jsonl'\n",
    "# validation_path = data_path + 'validation.jsonl'\n",
    "test_path = data_path + 'test.jsonl'\n",
    "\n",
    "\n",
    "train_dataset = load_dataset('json', data_files=train_path)['train']\n",
    "# validation_dataset = load_dataset('json', data_files=validation_path)['train']\n",
    "test_dataset = load_dataset('json', data_files=test_path)['train']"
   ]
  },
  {
   "cell_type": "code",
   "execution_count": 27,
   "metadata": {},
   "outputs": [
    {
     "name": "stdout",
     "output_type": "stream",
     "text": [
      "0 12\n",
      "0 12\n",
      "0 12\n",
      "0 12\n",
      "0 12\n",
      "0 12\n",
      "0 12\n",
      "0 12\n",
      "0 12\n",
      "0 12\n",
      "0 12\n",
      "0 12\n",
      "0 12\n",
      "0 12\n",
      "0 12\n",
      "0 12\n",
      "0 12\n",
      "3 12\n",
      "0 12\n",
      "0 12\n",
      "0 12\n",
      "0 12\n",
      "0 12\n",
      "3 12\n",
      "3 12\n",
      "0 12\n",
      "0 12\n",
      "0 12\n",
      "0 12\n",
      "0 12\n",
      "3 12\n",
      "0 12\n",
      "0 12\n",
      "3 12\n",
      "0 12\n",
      "0 12\n",
      "0 12\n",
      "0 12\n",
      "0 12\n",
      "0 12\n",
      "3 12\n",
      "0 12\n",
      "0 12\n",
      "3 12\n",
      "0 12\n",
      "0 12\n",
      "0 12\n",
      "0 12\n",
      "0 12\n",
      "0 12\n",
      "0 12\n",
      "0 12\n",
      "0 12\n",
      "0 12\n",
      "0 12\n",
      "3 12\n",
      "3 12\n",
      "0 12\n",
      "0 12\n",
      "0 12\n",
      "0 12\n",
      "0 12\n",
      "0 12\n",
      "0 12\n",
      "0 12\n",
      "3 12\n",
      "0 12\n",
      "0 12\n",
      "0 12\n",
      "0 12\n",
      "0 12\n",
      "0 12\n",
      "0 12\n",
      "0 12\n",
      "0 12\n",
      "0 12\n",
      "3 12\n",
      "0 12\n",
      "3 12\n",
      "0 12\n",
      "3 12\n",
      "0 12\n",
      "0 12\n",
      "0 12\n",
      "0 12\n",
      "0 12\n",
      "3 12\n",
      "0 12\n",
      "3 12\n",
      "0 12\n",
      "0 12\n",
      "0 12\n",
      "0 12\n",
      "0 12\n",
      "3 12\n",
      "0 12\n",
      "0 12\n",
      "0 12\n",
      "0 12\n",
      "0 12\n",
      "0 12\n",
      "0 12\n",
      "0 12\n",
      "0 12\n",
      "0 12\n",
      "0 12\n",
      "0 12\n",
      "0 12\n",
      "0 12\n",
      "0 12\n",
      "0 12\n",
      "3 12\n",
      "0 12\n",
      "0 12\n",
      "3 12\n",
      "0 12\n",
      "0 12\n",
      "0 12\n",
      "0 12\n",
      "0 12\n",
      "0 12\n",
      "0 12\n",
      "3 12\n",
      "0 12\n",
      "0 12\n",
      "0 12\n",
      "3 12\n",
      "0 12\n",
      "0 12\n",
      "3 12\n",
      "0 12\n",
      "0 12\n",
      "0 12\n",
      "3 12\n",
      "0 12\n",
      "0 12\n",
      "0 12\n",
      "3 12\n",
      "0 12\n",
      "3 12\n",
      "0 12\n",
      "0 12\n",
      "0 12\n",
      "3 12\n",
      "0 12\n",
      "0 12\n",
      "0 12\n",
      "3 12\n",
      "0 12\n",
      "0 12\n",
      "0 12\n",
      "0 12\n",
      "0 12\n",
      "0 12\n",
      "0 12\n",
      "0 12\n",
      "0 12\n",
      "0 12\n",
      "0 12\n",
      "0 12\n",
      "0 12\n",
      "0 12\n",
      "0 12\n",
      "0 12\n",
      "0 12\n",
      "0 12\n",
      "0 12\n",
      "0 12\n",
      "0 12\n",
      "0 12\n",
      "0 12\n",
      "0 12\n",
      "0 12\n",
      "0 12\n",
      "0 12\n",
      "0 12\n",
      "0 12\n",
      "3 12\n",
      "0 12\n",
      "0 12\n",
      "0 12\n",
      "0 12\n",
      "0 12\n",
      "0 12\n",
      "0 12\n",
      "0 12\n",
      "0 12\n",
      "0 12\n",
      "0 12\n",
      "0 12\n",
      "0 12\n",
      "0 12\n",
      "0 12\n",
      "0 12\n",
      "0 12\n",
      "0 12\n",
      "0 12\n",
      "0 12\n",
      "3 12\n",
      "0 12\n",
      "0 12\n",
      "0 12\n",
      "0 12\n",
      "0 12\n",
      "0 12\n",
      "0 12\n",
      "0 12\n",
      "3 12\n",
      "3 12\n",
      "3 12\n",
      "0 12\n",
      "0 12\n",
      "0 12\n",
      "0 12\n",
      "0 12\n",
      "3 12\n",
      "3 12\n",
      "0 12\n",
      "3 12\n",
      "3 12\n",
      "0 12\n",
      "0 12\n",
      "0 12\n",
      "0 12\n",
      "0 12\n",
      "0 12\n",
      "0 12\n",
      "0 12\n",
      "3 12\n",
      "0 12\n",
      "0 12\n",
      "0 12\n",
      "0 12\n",
      "0 12\n",
      "0 12\n",
      "0 12\n",
      "3 12\n",
      "0 12\n",
      "0 12\n",
      "0 12\n",
      "3 12\n",
      "0 12\n",
      "0 12\n",
      "0 12\n",
      "3 12\n",
      "3 12\n",
      "0 12\n",
      "0 12\n",
      "0 12\n",
      "0 12\n",
      "0 12\n",
      "0 12\n",
      "0 12\n",
      "0 12\n",
      "0 12\n",
      "0 12\n",
      "0 12\n",
      "0 12\n",
      "3 12\n",
      "0 12\n",
      "0 12\n",
      "0 12\n",
      "0 12\n",
      "0 12\n",
      "0 12\n",
      "0 12\n",
      "0 12\n",
      "0 12\n",
      "0 12\n",
      "3 12\n",
      "0 12\n",
      "0 12\n",
      "0 12\n",
      "0 12\n",
      "0 12\n",
      "0 12\n",
      "0 12\n",
      "0 12\n",
      "0 12\n",
      "0 12\n",
      "0 12\n",
      "0 12\n",
      "0 12\n",
      "0 12\n",
      "0 12\n",
      "0 12\n",
      "0 12\n",
      "0 12\n",
      "0 12\n",
      "0 12\n",
      "0 12\n",
      "3 12\n",
      "0 12\n",
      "0 12\n",
      "0 12\n",
      "0 12\n",
      "0 12\n",
      "0 12\n",
      "0 12\n",
      "3 12\n",
      "0 12\n",
      "0 12\n",
      "0 12\n",
      "0 12\n",
      "3 12\n",
      "0 12\n",
      "0 12\n",
      "0 12\n",
      "0 12\n",
      "0 12\n",
      "0 12\n",
      "0 12\n",
      "0 12\n",
      "0 12\n",
      "0 12\n",
      "0 12\n",
      "0 12\n",
      "0 12\n",
      "3 12\n",
      "0 12\n",
      "3 12\n"
     ]
    }
   ],
   "source": [
    "F = 'fine_label'\n",
    "C = 'coarse_label'\n",
    "\n",
    "d = dict()\n",
    "for sample in train_dataset:\n",
    "    f, c = sample.get(F), sample.get(C)\n",
    "    if c in d.keys():\n",
    "        l = d[c]\n",
    "        l.append(f)\n",
    "        l = list(set(l))\n",
    "        d[c] = sorted(l)\n",
    "        if f == 12:\n",
    "            print(c, f)\n",
    "    else:\n",
    "        d[c] = [f, ]"
   ]
  },
  {
   "cell_type": "code",
   "execution_count": 24,
   "metadata": {},
   "outputs": [
    {
     "data": {
      "text/plain": [
       "{0: [0, 7, 9, 12],\n",
       " 1: [1,\n",
       "  2,\n",
       "  10,\n",
       "  14,\n",
       "  15,\n",
       "  16,\n",
       "  17,\n",
       "  19,\n",
       "  20,\n",
       "  22,\n",
       "  23,\n",
       "  26,\n",
       "  28,\n",
       "  29,\n",
       "  30,\n",
       "  31,\n",
       "  33,\n",
       "  36,\n",
       "  37,\n",
       "  42,\n",
       "  44,\n",
       "  46],\n",
       " 2: [3, 34],\n",
       " 3: [4, 5, 6, 12],\n",
       " 4: [8, 13, 14, 25, 27, 32, 35, 38, 39, 40, 41, 43, 45],\n",
       " 5: [11, 14, 18, 21, 24]}"
      ]
     },
     "execution_count": 24,
     "metadata": {},
     "output_type": "execute_result"
    }
   ],
   "source": [
    "d"
   ]
  },
  {
   "cell_type": "code",
   "execution_count": 14,
   "metadata": {},
   "outputs": [
    {
     "name": "stderr",
     "output_type": "stream",
     "text": [
      "Using custom data configuration default\n",
      "Reusing dataset trec (/home/heyjoonkim/.cache/huggingface/datasets/trec/default/1.1.0/751da1ab101b8d297a3d6e9c79ee9b0173ff94c4497b75677b59b61d5467a9b9)\n"
     ]
    },
    {
     "data": {
      "application/vnd.jupyter.widget-view+json": {
       "model_id": "86cb8ea46c984d5391b618f2f4fbafda",
       "version_major": 2,
       "version_minor": 0
      },
      "text/plain": [
       "  0%|          | 0/2 [00:00<?, ?it/s]"
      ]
     },
     "metadata": {},
     "output_type": "display_data"
    }
   ],
   "source": [
    "trec = load_dataset('trec')"
   ]
  },
  {
   "cell_type": "code",
   "execution_count": 15,
   "metadata": {},
   "outputs": [
    {
     "data": {
      "text/plain": [
       "DatasetDict({\n",
       "    train: Dataset({\n",
       "        features: ['label-coarse', 'label-fine', 'text'],\n",
       "        num_rows: 5452\n",
       "    })\n",
       "    test: Dataset({\n",
       "        features: ['label-coarse', 'label-fine', 'text'],\n",
       "        num_rows: 500\n",
       "    })\n",
       "})"
      ]
     },
     "execution_count": 15,
     "metadata": {},
     "output_type": "execute_result"
    }
   ],
   "source": [
    "trec"
   ]
  },
  {
   "cell_type": "code",
   "execution_count": 29,
   "metadata": {},
   "outputs": [
    {
     "name": "stderr",
     "output_type": "stream",
     "text": [
      "Using custom data configuration default\n",
      "Reusing dataset trec (/home/heyjoonkim/.cache/huggingface/datasets/trec/default/1.1.0/751da1ab101b8d297a3d6e9c79ee9b0173ff94c4497b75677b59b61d5467a9b9)\n"
     ]
    },
    {
     "data": {
      "application/vnd.jupyter.widget-view+json": {
       "model_id": "0f6ef7a1e7f64bfbb805ec8a3a831f2f",
       "version_major": 2,
       "version_minor": 0
      },
      "text/plain": [
       "  0%|          | 0/2 [00:00<?, ?it/s]"
      ]
     },
     "metadata": {},
     "output_type": "display_data"
    }
   ],
   "source": [
    "x = load_dataset('trec')"
   ]
  },
  {
   "cell_type": "code",
   "execution_count": 30,
   "metadata": {},
   "outputs": [],
   "source": [
    "train = x['train']"
   ]
  },
  {
   "cell_type": "code",
   "execution_count": 40,
   "metadata": {},
   "outputs": [
    {
     "data": {
      "text/plain": [
       "Dataset({\n",
       "    features: ['label-coarse', 'label-fine', 'text'],\n",
       "    num_rows: 5452\n",
       "})"
      ]
     },
     "execution_count": 40,
     "metadata": {},
     "output_type": "execute_result"
    }
   ],
   "source": [
    "train"
   ]
  },
  {
   "cell_type": "code",
   "execution_count": 31,
   "metadata": {},
   "outputs": [
    {
     "data": {
      "text/plain": [
       "{0, 1, 2, 3, 4, 5}"
      ]
     },
     "execution_count": 31,
     "metadata": {},
     "output_type": "execute_result"
    }
   ],
   "source": [
    "set(train['label-coarse'])"
   ]
  },
  {
   "cell_type": "code",
   "execution_count": 34,
   "metadata": {},
   "outputs": [
    {
     "name": "stdout",
     "output_type": "stream",
     "text": [
      "{0, 1, 2, 3, 4, 5, 6, 7, 8, 9, 10, 11, 12, 13, 14, 15, 16, 17, 18, 19, 20, 21, 22, 23, 24, 25, 26, 27, 28, 29, 30, 31, 32, 33, 34, 35, 36, 37, 38, 39, 40, 41, 42, 43, 44, 45, 46} 47\n"
     ]
    }
   ],
   "source": [
    "print(set(train['label-fine']), len(set(train['label-fine'])))"
   ]
  },
  {
   "cell_type": "code",
   "execution_count": 35,
   "metadata": {},
   "outputs": [
    {
     "name": "stdout",
     "output_type": "stream",
     "text": [
      "{0, 1, 2, 3, 4, 5}\n",
      "{0, 1, 2, 3, 4, 5, 6, 7, 8, 9, 10, 11, 12, 13, 14, 15, 16, 17, 18, 19, 20, 21, 22, 23, 24, 25, 26, 27, 28, 29, 30, 31, 32, 33, 34, 35, 36, 37, 38, 39, 40, 41, 42, 43, 44, 45, 46} 47\n"
     ]
    }
   ],
   "source": [
    "test = x['train']\n",
    "print(set(test['label-coarse']))\n",
    "print(set(test['label-fine']), len(set(test['label-fine'])))"
   ]
  },
  {
   "cell_type": "code",
   "execution_count": 39,
   "metadata": {},
   "outputs": [
    {
     "name": "stderr",
     "output_type": "stream",
     "text": [
      "Loading cached processed dataset at /home/heyjoonkim/.cache/huggingface/datasets/trec/default/1.1.0/751da1ab101b8d297a3d6e9c79ee9b0173ff94c4497b75677b59b61d5467a9b9/cache-9b99e6ebf6730d8a.arrow\n"
     ]
    },
    {
     "name": "stdout",
     "output_type": "stream",
     "text": [
      "0 -> {0, 9, 12, 7}\n"
     ]
    },
    {
     "data": {
      "application/vnd.jupyter.widget-view+json": {
       "model_id": "01921d0d641748f183f90e5748222f6c",
       "version_major": 2,
       "version_minor": 0
      },
      "text/plain": [
       "  0%|          | 0/6 [00:00<?, ?ba/s]"
      ]
     },
     "metadata": {},
     "output_type": "display_data"
    },
    {
     "name": "stdout",
     "output_type": "stream",
     "text": [
      "1 -> {1, 2, 10, 14, 15, 16, 17, 19, 20, 22, 23, 26, 28, 29, 30, 31, 33, 36, 37, 42, 44, 46}\n"
     ]
    },
    {
     "data": {
      "application/vnd.jupyter.widget-view+json": {
       "model_id": "46dbf37c2ad24381a57b769ce4dfe16d",
       "version_major": 2,
       "version_minor": 0
      },
      "text/plain": [
       "  0%|          | 0/6 [00:00<?, ?ba/s]"
      ]
     },
     "metadata": {},
     "output_type": "display_data"
    },
    {
     "name": "stdout",
     "output_type": "stream",
     "text": [
      "2 -> {34, 3}\n"
     ]
    },
    {
     "data": {
      "application/vnd.jupyter.widget-view+json": {
       "model_id": "79d4b0f1a07f4210b8442bcdb1b39047",
       "version_major": 2,
       "version_minor": 0
      },
      "text/plain": [
       "  0%|          | 0/6 [00:00<?, ?ba/s]"
      ]
     },
     "metadata": {},
     "output_type": "display_data"
    },
    {
     "name": "stdout",
     "output_type": "stream",
     "text": [
      "3 -> {12, 4, 5, 6}\n"
     ]
    },
    {
     "data": {
      "application/vnd.jupyter.widget-view+json": {
       "model_id": "69894bfa78b74871a574cf5b4ed2434b",
       "version_major": 2,
       "version_minor": 0
      },
      "text/plain": [
       "  0%|          | 0/6 [00:00<?, ?ba/s]"
      ]
     },
     "metadata": {},
     "output_type": "display_data"
    },
    {
     "name": "stdout",
     "output_type": "stream",
     "text": [
      "4 -> {32, 35, 38, 39, 8, 40, 41, 43, 13, 14, 45, 25, 27}\n"
     ]
    },
    {
     "data": {
      "application/vnd.jupyter.widget-view+json": {
       "model_id": "138ce64e8d1c4e6d853ea0556ef8f641",
       "version_major": 2,
       "version_minor": 0
      },
      "text/plain": [
       "  0%|          | 0/6 [00:00<?, ?ba/s]"
      ]
     },
     "metadata": {},
     "output_type": "display_data"
    },
    {
     "name": "stdout",
     "output_type": "stream",
     "text": [
      "5 -> {11, 14, 18, 21, 24}\n"
     ]
    }
   ],
   "source": [
    "for i in range(6):\n",
    "    tmp = train.filter(lambda x: x['label-coarse'] == i)\n",
    "    print(i, '->', set(tmp['label-fine']))"
   ]
  },
  {
   "cell_type": "code",
   "execution_count": 7,
   "metadata": {},
   "outputs": [],
   "source": [
    "import torch\n",
    "import random\n",
    "from datasets import load_metric"
   ]
  },
  {
   "cell_type": "code",
   "execution_count": 8,
   "metadata": {},
   "outputs": [],
   "source": [
    "\n",
    "class Accuracy:\n",
    "    def __init__(self):\n",
    "        self.predictions = []\n",
    "        self.references = []\n",
    "        self.num_samples = 0\n",
    "\n",
    "    def add_batch(self, predictions, references):\n",
    "        prediction_count = predictions.shape[0]\n",
    "        reference_count = references.shape[0]\n",
    "        assert prediction_count == reference_count, f'{prediction_count} != {reference_count}'\n",
    "        self.num_samples += prediction_count\n",
    "\n",
    "        self.predictions.append(predictions)\n",
    "        self.references.append(references)\n",
    "\n",
    "        assert len(self.predictions) == len(self.references), f'{len(self.predictions)} != {len(self.references)}'\n",
    "    \n",
    "    def compute(self):\n",
    "        # shape : (num_samples, )\n",
    "        predictions = torch.concat(self.predictions)\n",
    "        # shape : (num_samples, )\n",
    "        references = torch.concat(self.references)\n",
    "\n",
    "        correct = predictions == references\n",
    "\n",
    "        num_total = len(correct)\n",
    "        num_correct = len(correct[correct == True])\n",
    "        accuracy = num_correct / num_total \n",
    "\n",
    "        return {\n",
    "            'accuracy' : accuracy,\n",
    "            'num_samples' : self.num_samples\n",
    "        }\n",
    "        \n",
    "\n"
   ]
  },
  {
   "cell_type": "code",
   "execution_count": 18,
   "metadata": {},
   "outputs": [],
   "source": [
    "import time\n",
    "start = time.time()\n",
    "acc_transformers = load_metric('accuracy')\n",
    "acc_mine = Accuracy()\n",
    "for _ in range(10000):\n",
    "    pred = []\n",
    "    ref = []\n",
    "    for __ in range(8):\n",
    "        pred.append(random.randint(0, 1))\n",
    "        ref.append(random.randint(0, 1))\n",
    "\n",
    "    pred = torch.tensor(pred)\n",
    "    ref = torch.tensor(ref)\n",
    "\n",
    "    acc_mine.add_batch(predictions=pred, references=ref)\n",
    "    acc_transformers.add_batch(predictions=pred, references=ref)\n"
   ]
  },
  {
   "cell_type": "code",
   "execution_count": 19,
   "metadata": {},
   "outputs": [
    {
     "name": "stdout",
     "output_type": "stream",
     "text": [
      "mine         0.4991\n",
      "transformers 0.4991\n"
     ]
    }
   ],
   "source": [
    "\n",
    "mine_results = acc_mine.compute()\n",
    "transformers_results = acc_transformers.compute()\n",
    "\n",
    "print('mine        ', mine_results['accuracy'])\n",
    "print('transformers', transformers_results['accuracy'])"
   ]
  },
  {
   "cell_type": "code",
   "execution_count": 20,
   "metadata": {},
   "outputs": [
    {
     "name": "stdout",
     "output_type": "stream",
     "text": [
      "mine         0.4963125\n",
      "time : 0.4064924716949463\n"
     ]
    }
   ],
   "source": [
    "import time\n",
    "start_time = time.time()\n",
    "# acc_transformers = load_metric('accuracy')\n",
    "acc_mine = Accuracy()\n",
    "for _ in range(10000):\n",
    "    pred = []\n",
    "    ref = []\n",
    "    for __ in range(8):\n",
    "        pred.append(random.randint(0, 1))\n",
    "        ref.append(random.randint(0, 1))\n",
    "\n",
    "    pred = torch.tensor(pred)\n",
    "    ref = torch.tensor(ref)\n",
    "\n",
    "    acc_mine.add_batch(predictions=pred, references=ref)\n",
    "    # acc_transformers.add_batch(predictions=pred, references=ref)\n",
    "\n",
    "mine_results = acc_mine.compute()\n",
    "print('mine        ', mine_results['accuracy'])\n",
    "end_time = time.time()\n",
    "print('time :', end_time-start_time)"
   ]
  },
  {
   "cell_type": "code",
   "execution_count": 21,
   "metadata": {},
   "outputs": [
    {
     "name": "stdout",
     "output_type": "stream",
     "text": [
      "transformers 0.5009875\n",
      "time : 5.53059983253479\n"
     ]
    }
   ],
   "source": [
    "import time\n",
    "start_time = time.time()\n",
    "acc_transformers = load_metric('accuracy')\n",
    "# acc_mine = Accuracy()\n",
    "for _ in range(10000):\n",
    "    pred = []\n",
    "    ref = []\n",
    "    for __ in range(8):\n",
    "        pred.append(random.randint(0, 1))\n",
    "        ref.append(random.randint(0, 1))\n",
    "\n",
    "    pred = torch.tensor(pred)\n",
    "    ref = torch.tensor(ref)\n",
    "\n",
    "    # acc_mine.add_batch(predictions=pred, references=ref)\n",
    "    acc_transformers.add_batch(predictions=pred, references=ref)\n",
    "\n",
    "# mine_results = acc_mine.compute()\n",
    "transformers_results = acc_transformers.compute()\n",
    "\n",
    "# print('mine        ', mine_results['accuracy'])\n",
    "print('transformers', transformers_results['accuracy'])\n",
    "end_time = time.time()\n",
    "print('time :', end_time-start_time)"
   ]
  },
  {
   "cell_type": "code",
   "execution_count": 1,
   "metadata": {},
   "outputs": [],
   "source": [
    "import torch"
   ]
  },
  {
   "cell_type": "code",
   "execution_count": 14,
   "metadata": {},
   "outputs": [
    {
     "name": "stdout",
     "output_type": "stream",
     "text": [
      "tensor([[0.0474, 0.9526, 0.0000],\n",
      "        [0.0900, 0.2447, 0.6652],\n",
      "        [0.0025, 0.0025, 0.9951]])\n"
     ]
    }
   ],
   "source": [
    "a = torch.tensor([[65165, 65168,2113], [1,2,3], [3,3,9]]).float()\n",
    "# a = torch.tensor([65168, 2, 51,65168,2113,87]).float()\n",
    "b = torch.nn.Softmax(dim=-1)(a)\n",
    "print(b)"
   ]
  },
  {
   "cell_type": "code",
   "execution_count": 15,
   "metadata": {},
   "outputs": [
    {
     "name": "stdout",
     "output_type": "stream",
     "text": [
      "tensor([1, 2, 2])\n"
     ]
    }
   ],
   "source": [
    "x = b.argmax(dim=-1)\n",
    "print(x)"
   ]
  },
  {
   "cell_type": "code",
   "execution_count": 19,
   "metadata": {},
   "outputs": [
    {
     "name": "stdout",
     "output_type": "stream",
     "text": [
      "tensor([[0.0900, 0.2447, 0.6652],\n",
      "        [0.0025, 0.0025, 0.9951],\n",
      "        [0.0025, 0.0025, 0.9951]])\n"
     ]
    }
   ],
   "source": [
    "y = b[x]\n",
    "print(y)"
   ]
  },
  {
   "cell_type": "code",
   "execution_count": 25,
   "metadata": {},
   "outputs": [
    {
     "name": "stdout",
     "output_type": "stream",
     "text": [
      "0.5\n",
      "tensor([0.8000, 0.5000, 0.9000, 0.4000])\n",
      "tensor([   1,    1,    2, 9999])\n"
     ]
    }
   ],
   "source": [
    "\n",
    "thresholds = [0.5]\n",
    "num_thresholds = len(thresholds)\n",
    "predictions = torch.tensor([1, 1, 2, 0])\n",
    "unknown_label = 9999\n",
    "logits = torch.tensor([\n",
    "    [0.1, 0.8, 0.1],\n",
    "    [0.3, 0.5, 0.2], \n",
    "    [0.05, 0.05, 0.9],\n",
    "    [0.4, 0.3, 0.3]\n",
    "])\n",
    "\n",
    "for index in range(num_thresholds):\n",
    "    # tmp_predictions = copy.deepcopy(predictions)\n",
    "    tmp_predictions = predictions.clone().detach()\n",
    "    threshold = thresholds[index]\n",
    "    print(threshold)\n",
    "\n",
    "    m = logits.max(dim=-1).values\n",
    "    print(m)\n",
    "\n",
    "    # get \"unknown\" indices \n",
    "    unknown = (m < threshold).squeeze()\n",
    "\n",
    "    # update \"unknown\" predictions\n",
    "    tmp_predictions[unknown] = unknown_label\n",
    "\n",
    "\n",
    "print(tmp_predictions)"
   ]
  },
  {
   "cell_type": "code",
   "execution_count": 2,
   "metadata": {},
   "outputs": [],
   "source": [
    "import numpy as np\n",
    "import torch\n",
    "\n",
    "class HScore():\n",
    "    def __init__(self, unknown_class_index):\n",
    "        self.unknown_class_index = unknown_class_index\n",
    "\n",
    "        self.per_class_correct = np.zeros((unknown_class_index+1)).astype(np.float32)\n",
    "        self.per_class_num = np.zeros((unknown_class_index+1)).astype(np.float32)\n",
    "\n",
    "    # predictions : (batch, )\n",
    "    # references : (batch, )\n",
    "    def add_batch(self, predictions, references):\n",
    "\n",
    "        batch_size = predictions.shape[0]\n",
    "\n",
    "        for index in range(batch_size):\n",
    "            prediction = predictions[index].detach().cpu().numpy()\n",
    "            reference = references[index].detach().cpu().numpy()\n",
    "\n",
    "            if prediction == reference:\n",
    "                self.per_class_correct[reference] += 1\n",
    "            \n",
    "            self.per_class_num[reference] += 1\n",
    "\n",
    "\n",
    "    def compute(self):\n",
    "        # number of valid classes\n",
    "        valid_index = ~(self.per_class_num == 0)\n",
    "        valid_count = np.count_nonzero(valid_index)\n",
    "        per_class_correct = self.per_class_correct[valid_index]\n",
    "        per_class_num = self.per_class_num[valid_index]\n",
    "\n",
    "        import pdb\n",
    "        pdb.set_trace()\n",
    "\n",
    "        per_class_accuracy = per_class_correct / per_class_num\n",
    "\n",
    "        known_accuracy = per_class_accuracy[:valid_count-1].mean() * 100\n",
    "        unknown_accuracy = per_class_accuracy[valid_count-1] * 100\n",
    "        h_score = 2 * known_accuracy * unknown_accuracy / (known_accuracy + unknown_accuracy)\n",
    "            \n",
    "        total_correct = per_class_correct.sum()\n",
    "        total_samples = per_class_num.sum()\n",
    "        accuracy = total_correct / total_samples * 100\n",
    "\n",
    "        return {\n",
    "            'h_score' : h_score,\n",
    "            'known_accuracy' : known_accuracy,\n",
    "            'unknown_accuracy' : unknown_accuracy,\n",
    "            'accuracy' : accuracy\n",
    "        }"
   ]
  },
  {
   "cell_type": "code",
   "execution_count": 3,
   "metadata": {},
   "outputs": [],
   "source": [
    "h = HScore(3)"
   ]
  },
  {
   "cell_type": "code",
   "execution_count": 4,
   "metadata": {},
   "outputs": [],
   "source": [
    "x = torch.tensor([0, 0, 1, 1, 2, 2, 3, 3])\n",
    "y = torch.tensor([1, 1, 1, 1, 3, 3, 3, 3])\n",
    "h.add_batch(x,y)"
   ]
  },
  {
   "cell_type": "code",
   "execution_count": 5,
   "metadata": {},
   "outputs": [
    {
     "name": "stdout",
     "output_type": "stream",
     "text": [
      "> \u001b[0;32m/tmp/ipykernel_587138/1942383704.py\u001b[0m(37)\u001b[0;36mcompute\u001b[0;34m()\u001b[0m\n",
      "\u001b[0;32m     35 \u001b[0;31m        \u001b[0mpdb\u001b[0m\u001b[0;34m.\u001b[0m\u001b[0mset_trace\u001b[0m\u001b[0;34m(\u001b[0m\u001b[0;34m)\u001b[0m\u001b[0;34m\u001b[0m\u001b[0;34m\u001b[0m\u001b[0m\n",
      "\u001b[0m\u001b[0;32m     36 \u001b[0;31m\u001b[0;34m\u001b[0m\u001b[0m\n",
      "\u001b[0m\u001b[0;32m---> 37 \u001b[0;31m        \u001b[0mper_class_accuracy\u001b[0m \u001b[0;34m=\u001b[0m \u001b[0mper_class_correct\u001b[0m \u001b[0;34m/\u001b[0m \u001b[0mper_class_num\u001b[0m\u001b[0;34m\u001b[0m\u001b[0;34m\u001b[0m\u001b[0m\n",
      "\u001b[0m\u001b[0;32m     38 \u001b[0;31m\u001b[0;34m\u001b[0m\u001b[0m\n",
      "\u001b[0m\u001b[0;32m     39 \u001b[0;31m        \u001b[0mknown_accuracy\u001b[0m \u001b[0;34m=\u001b[0m \u001b[0mper_class_accuracy\u001b[0m\u001b[0;34m[\u001b[0m\u001b[0;34m:\u001b[0m\u001b[0mvalid_count\u001b[0m\u001b[0;34m-\u001b[0m\u001b[0;36m1\u001b[0m\u001b[0;34m]\u001b[0m\u001b[0;34m.\u001b[0m\u001b[0mmean\u001b[0m\u001b[0;34m(\u001b[0m\u001b[0;34m)\u001b[0m \u001b[0;34m*\u001b[0m \u001b[0;36m100\u001b[0m\u001b[0;34m\u001b[0m\u001b[0;34m\u001b[0m\u001b[0m\n",
      "\u001b[0m\n",
      "array([False,  True, False,  True])\n",
      "array([False,  True, False,  True])\n",
      "array([0., 4., 0., 4.], dtype=float32)\n",
      "2\n",
      "array([2., 2.], dtype=float32)\n",
      "array([2., 2.], dtype=float32)\n",
      "array([0., 4., 0., 4.], dtype=float32)\n",
      "array([4., 4.], dtype=float32)\n",
      "array([0.5, 0.5], dtype=float32)\n",
      "array([0.5, 0.5], dtype=float32)\n"
     ]
    },
    {
     "ename": "BdbQuit",
     "evalue": "",
     "output_type": "error",
     "traceback": [
      "\u001b[0;31m---------------------------------------------------------------------------\u001b[0m",
      "\u001b[0;31mBdbQuit\u001b[0m                                   Traceback (most recent call last)",
      "\u001b[1;32m/home/heyjoonkim/UniDA/data_preprocessing/load_clinc.ipynb 셀 66\u001b[0m in \u001b[0;36m<cell line: 1>\u001b[0;34m()\u001b[0m\n\u001b[0;32m----> <a href='vscode-notebook-cell://ssh-remote%2Bdione.snu.ac.kr/home/heyjoonkim/UniDA/data_preprocessing/load_clinc.ipynb#Y122sdnNjb2RlLXJlbW90ZQ%3D%3D?line=0'>1</a>\u001b[0m h\u001b[39m.\u001b[39;49mcompute()\n",
      "\u001b[1;32m/home/heyjoonkim/UniDA/data_preprocessing/load_clinc.ipynb 셀 66\u001b[0m in \u001b[0;36mHScore.compute\u001b[0;34m(self)\u001b[0m\n\u001b[1;32m     <a href='vscode-notebook-cell://ssh-remote%2Bdione.snu.ac.kr/home/heyjoonkim/UniDA/data_preprocessing/load_clinc.ipynb#Y122sdnNjb2RlLXJlbW90ZQ%3D%3D?line=33'>34</a>\u001b[0m \u001b[39mimport\u001b[39;00m \u001b[39mpdb\u001b[39;00m\n\u001b[1;32m     <a href='vscode-notebook-cell://ssh-remote%2Bdione.snu.ac.kr/home/heyjoonkim/UniDA/data_preprocessing/load_clinc.ipynb#Y122sdnNjb2RlLXJlbW90ZQ%3D%3D?line=34'>35</a>\u001b[0m pdb\u001b[39m.\u001b[39mset_trace()\n\u001b[0;32m---> <a href='vscode-notebook-cell://ssh-remote%2Bdione.snu.ac.kr/home/heyjoonkim/UniDA/data_preprocessing/load_clinc.ipynb#Y122sdnNjb2RlLXJlbW90ZQ%3D%3D?line=36'>37</a>\u001b[0m per_class_accuracy \u001b[39m=\u001b[39m per_class_correct \u001b[39m/\u001b[39m per_class_num\n\u001b[1;32m     <a href='vscode-notebook-cell://ssh-remote%2Bdione.snu.ac.kr/home/heyjoonkim/UniDA/data_preprocessing/load_clinc.ipynb#Y122sdnNjb2RlLXJlbW90ZQ%3D%3D?line=38'>39</a>\u001b[0m known_accuracy \u001b[39m=\u001b[39m per_class_accuracy[:valid_count\u001b[39m-\u001b[39m\u001b[39m1\u001b[39m]\u001b[39m.\u001b[39mmean() \u001b[39m*\u001b[39m \u001b[39m100\u001b[39m\n\u001b[1;32m     <a href='vscode-notebook-cell://ssh-remote%2Bdione.snu.ac.kr/home/heyjoonkim/UniDA/data_preprocessing/load_clinc.ipynb#Y122sdnNjb2RlLXJlbW90ZQ%3D%3D?line=39'>40</a>\u001b[0m unknown_accuracy \u001b[39m=\u001b[39m per_class_accuracy[valid_count\u001b[39m-\u001b[39m\u001b[39m1\u001b[39m] \u001b[39m*\u001b[39m \u001b[39m100\u001b[39m\n",
      "\u001b[1;32m/home/heyjoonkim/UniDA/data_preprocessing/load_clinc.ipynb 셀 66\u001b[0m in \u001b[0;36mHScore.compute\u001b[0;34m(self)\u001b[0m\n\u001b[1;32m     <a href='vscode-notebook-cell://ssh-remote%2Bdione.snu.ac.kr/home/heyjoonkim/UniDA/data_preprocessing/load_clinc.ipynb#Y122sdnNjb2RlLXJlbW90ZQ%3D%3D?line=33'>34</a>\u001b[0m \u001b[39mimport\u001b[39;00m \u001b[39mpdb\u001b[39;00m\n\u001b[1;32m     <a href='vscode-notebook-cell://ssh-remote%2Bdione.snu.ac.kr/home/heyjoonkim/UniDA/data_preprocessing/load_clinc.ipynb#Y122sdnNjb2RlLXJlbW90ZQ%3D%3D?line=34'>35</a>\u001b[0m pdb\u001b[39m.\u001b[39mset_trace()\n\u001b[0;32m---> <a href='vscode-notebook-cell://ssh-remote%2Bdione.snu.ac.kr/home/heyjoonkim/UniDA/data_preprocessing/load_clinc.ipynb#Y122sdnNjb2RlLXJlbW90ZQ%3D%3D?line=36'>37</a>\u001b[0m per_class_accuracy \u001b[39m=\u001b[39m per_class_correct \u001b[39m/\u001b[39m per_class_num\n\u001b[1;32m     <a href='vscode-notebook-cell://ssh-remote%2Bdione.snu.ac.kr/home/heyjoonkim/UniDA/data_preprocessing/load_clinc.ipynb#Y122sdnNjb2RlLXJlbW90ZQ%3D%3D?line=38'>39</a>\u001b[0m known_accuracy \u001b[39m=\u001b[39m per_class_accuracy[:valid_count\u001b[39m-\u001b[39m\u001b[39m1\u001b[39m]\u001b[39m.\u001b[39mmean() \u001b[39m*\u001b[39m \u001b[39m100\u001b[39m\n\u001b[1;32m     <a href='vscode-notebook-cell://ssh-remote%2Bdione.snu.ac.kr/home/heyjoonkim/UniDA/data_preprocessing/load_clinc.ipynb#Y122sdnNjb2RlLXJlbW90ZQ%3D%3D?line=39'>40</a>\u001b[0m unknown_accuracy \u001b[39m=\u001b[39m per_class_accuracy[valid_count\u001b[39m-\u001b[39m\u001b[39m1\u001b[39m] \u001b[39m*\u001b[39m \u001b[39m100\u001b[39m\n",
      "File \u001b[0;32m~/anaconda3/envs/dev/lib/python3.8/bdb.py:88\u001b[0m, in \u001b[0;36mBdb.trace_dispatch\u001b[0;34m(self, frame, event, arg)\u001b[0m\n\u001b[1;32m     86\u001b[0m     \u001b[39mreturn\u001b[39;00m \u001b[39m# None\u001b[39;00m\n\u001b[1;32m     87\u001b[0m \u001b[39mif\u001b[39;00m event \u001b[39m==\u001b[39m \u001b[39m'\u001b[39m\u001b[39mline\u001b[39m\u001b[39m'\u001b[39m:\n\u001b[0;32m---> 88\u001b[0m     \u001b[39mreturn\u001b[39;00m \u001b[39mself\u001b[39;49m\u001b[39m.\u001b[39;49mdispatch_line(frame)\n\u001b[1;32m     89\u001b[0m \u001b[39mif\u001b[39;00m event \u001b[39m==\u001b[39m \u001b[39m'\u001b[39m\u001b[39mcall\u001b[39m\u001b[39m'\u001b[39m:\n\u001b[1;32m     90\u001b[0m     \u001b[39mreturn\u001b[39;00m \u001b[39mself\u001b[39m\u001b[39m.\u001b[39mdispatch_call(frame, arg)\n",
      "File \u001b[0;32m~/anaconda3/envs/dev/lib/python3.8/bdb.py:113\u001b[0m, in \u001b[0;36mBdb.dispatch_line\u001b[0;34m(self, frame)\u001b[0m\n\u001b[1;32m    111\u001b[0m \u001b[39mif\u001b[39;00m \u001b[39mself\u001b[39m\u001b[39m.\u001b[39mstop_here(frame) \u001b[39mor\u001b[39;00m \u001b[39mself\u001b[39m\u001b[39m.\u001b[39mbreak_here(frame):\n\u001b[1;32m    112\u001b[0m     \u001b[39mself\u001b[39m\u001b[39m.\u001b[39muser_line(frame)\n\u001b[0;32m--> 113\u001b[0m     \u001b[39mif\u001b[39;00m \u001b[39mself\u001b[39m\u001b[39m.\u001b[39mquitting: \u001b[39mraise\u001b[39;00m BdbQuit\n\u001b[1;32m    114\u001b[0m \u001b[39mreturn\u001b[39;00m \u001b[39mself\u001b[39m\u001b[39m.\u001b[39mtrace_dispatch\n",
      "\u001b[0;31mBdbQuit\u001b[0m: "
     ]
    }
   ],
   "source": [
    "h.compute()"
   ]
  },
  {
   "cell_type": "code",
   "execution_count": 1,
   "metadata": {},
   "outputs": [],
   "source": [
    "import os"
   ]
  },
  {
   "cell_type": "code",
   "execution_count": 15,
   "metadata": {},
   "outputs": [],
   "source": []
  },
  {
   "cell_type": "code",
   "execution_count": 19,
   "metadata": {},
   "outputs": [],
   "source": [
    "import os\n",
    "sources=['amazon', 'dslr', 'webcam']\n",
    "\n",
    "for source in sources:\n",
    "    path = f'/home/heyjoonkim/data/datasets/office/{source}/images'\n",
    "    output_path = f'/home/heyjoonkim/data/datasets/office/{source}'\n",
    "\n",
    "    file_lists = os.listdir(path)\n",
    "    sorted_file_lists = sorted(file_lists)\n",
    "\n",
    "    output_file = os.path.join(output_path, 'image_list.txt')\n",
    "    with open(output_file, 'a') as f:\n",
    "        for label, class_name in enumerate(sorted_file_lists):\n",
    "            new_path = os.path.join(path, class_name)\n",
    "            item_list = os.listdir(new_path)\n",
    "            sorted_item_list = sorted(item_list)\n",
    "            for item in sorted_item_list:\n",
    "                f.write(f'images/{class_name}/{item} {label}\\n')\n"
   ]
  },
  {
   "cell_type": "code",
   "execution_count": 3,
   "metadata": {},
   "outputs": [],
   "source": [
    "\n",
    "\n",
    "TASK_TO_NUM_CLASS = {\n",
    "    \"visda\" : {\n",
    "        \"num_total\" : 12,\n",
    "        \"num_known\" : 3,\n",
    "        \"num_unknown\" : 3,\n",
    "        \"num_common\" : 6\n",
    "    },\n",
    "    \"office\" : {\n",
    "        \"num_total\" : 31,\n",
    "        \"num_known\" : 10,\n",
    "        \"num_unknown\" : 11,\n",
    "        \"num_common\" : 10\n",
    "    },\n",
    "}\n",
    "\n",
    "# path for splitted data\n",
    "DATA_PATH='/home/heyjoonkim/data/datasets/'\n",
    "\n",
    "task_name = 'office'\n",
    "n_total = TASK_TO_NUM_CLASS[task_name][\"num_total\"]\n",
    "n_source_private = TASK_TO_NUM_CLASS[task_name][\"num_known\"]\n",
    "n_share = TASK_TO_NUM_CLASS[task_name][\"num_common\"]\n"
   ]
  },
  {
   "cell_type": "code",
   "execution_count": 15,
   "metadata": {},
   "outputs": [
    {
     "name": "stdout",
     "output_type": "stream",
     "text": [
      "amazon 2817\n",
      "dslr 498\n",
      "webcam 795\n"
     ]
    }
   ],
   "source": [
    "\n",
    "sources=['amazon', 'dslr', 'webcam']\n",
    "for source in sources:\n",
    "    path = f'/home/heyjoonkim/data/datasets/office/{source}/images'\n",
    "    output_path = f'/home/heyjoonkim/data/datasets/office/{source}'\n",
    "\n",
    "    file_lists = os.listdir(path)\n",
    "    sorted_file_lists = sorted(file_lists)\n",
    "    total = 0\n",
    "    output_file = os.path.join(output_path, 'image_list.txt')\n",
    "    for label, class_name in enumerate(sorted_file_lists):\n",
    "        new_path = os.path.join(path, class_name)\n",
    "        item_list = os.listdir(new_path)\n",
    "        count = len(item_list)\n",
    "        # print(label, class_name, count)\n",
    "        total += count\n",
    "\n",
    "    print(source, total)"
   ]
  },
  {
   "cell_type": "code",
   "execution_count": 14,
   "metadata": {},
   "outputs": [
    {
     "data": {
      "text/plain": [
       "2817"
      ]
     },
     "execution_count": 14,
     "metadata": {},
     "output_type": "execute_result"
    }
   ],
   "source": [
    "total"
   ]
  },
  {
   "cell_type": "code",
   "execution_count": 1,
   "metadata": {},
   "outputs": [],
   "source": [
    "import matplotlib.pyplot as plt"
   ]
  },
  {
   "cell_type": "code",
   "execution_count": 5,
   "metadata": {},
   "outputs": [
    {
     "data": {
      "text/plain": [
       "<matplotlib.legend.Legend at 0x7fc09e741250>"
      ]
     },
     "execution_count": 5,
     "metadata": {},
     "output_type": "execute_result"
    },
    {
     "data": {
      "image/png": "[encoded data removed]",
      "text/plain": [
       "<Figure size 432x288 with 1 Axes>"
      ]
     },
     "metadata": {
      "needs_background": "light"
     },
     "output_type": "display_data"
    }
   ],
   "source": [
    "hscore = [0, 0, 0.3, 0.5]\n",
    "th = [0, 0.2, 0.4, 0.6]\n",
    "\n",
    "plt.plot(th, hscore)\n",
    "plt.plot(0, 0.3, 'ro', label='aaa')\n",
    "plt.xlabel('Threshold')\n",
    "plt.ylabel('H-score')\n",
    "\n",
    "plt.legend()\n",
    "# plt.savefig('test.png')"
   ]
  },
  {
   "cell_type": "code",
   "execution_count": 4,
   "metadata": {},
   "outputs": [],
   "source": [
    "import numpy as np\n",
    "thresholds = list(np.arange(-2, 1, 0.005))\n"
   ]
  },
  {
   "cell_type": "code",
   "execution_count": null,
   "metadata": {},
   "outputs": [],
   "source": []
  }
 ],
 "metadata": {
  "kernelspec": {
   "display_name": "Python 3.8.13 ('dev')",
   "language": "python",
   "name": "python3"
  },
  "language_info": {
   "codemirror_mode": {
    "name": "ipython",
    "version": 3
   },
   "file_extension": ".py",
   "mimetype": "text/x-python",
   "name": "python",
   "nbconvert_exporter": "python",
   "pygments_lexer": "ipython3",
   "version": "3.8.13"
  },
  "orig_nbformat": 4,
  "vscode": {
   "interpreter": {
    "hash": "446beb79efea74e8e2088c9df70683e251ecb598c996f19f8b95d7bf25cd1790"
   }
  }
 },
 "nbformat": 4,
 "nbformat_minor": 2
}
